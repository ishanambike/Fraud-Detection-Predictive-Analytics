{
 "cells": [
  {
   "cell_type": "markdown",
   "id": "efe8430a",
   "metadata": {},
   "source": [
    "## Loading Data and preparing for EDA."
   ]
  },
  {
   "cell_type": "code",
   "execution_count": 1,
   "id": "694358a8",
   "metadata": {},
   "outputs": [],
   "source": [
    "%matplotlib inline\n",
    "import pandas as pd\n",
    "import numpy as np\n",
    "import matplotlib.pyplot as plt\n",
    "import seaborn as sns"
   ]
  },
  {
   "cell_type": "code",
   "execution_count": 2,
   "id": "4852399c",
   "metadata": {},
   "outputs": [],
   "source": [
    "path = \"C:/Users/Admin/OneDrive/Documents/Term 2/BANA 780/A4/ieee-fraud-detection/\"\n",
    "trainIdentityDF = pd.read_csv(path+'train_identity.csv') \n",
    "trainTransactionDF = pd.read_csv(path+'train_transaction.csv') \n",
    "testIdentityDF = pd.read_csv(path+'test_identity.csv')\n",
    "testTransactionDF = pd.read_csv(path+'test_transaction.csv') "
   ]
  },
  {
   "cell_type": "code",
   "execution_count": 3,
   "id": "8e65e90e",
   "metadata": {},
   "outputs": [
    {
     "name": "stdout",
     "output_type": "stream",
     "text": [
      "train_transaction shape is: (590540, 394)\n",
      "train_identity shape is: (144233, 41)\n",
      "test_transaction shape is: (506691, 393)\n",
      "test_identity shape is: (141907, 41)\n"
     ]
    }
   ],
   "source": [
    "print('train_transaction shape is: {}'.format(trainTransactionDF.shape))\n",
    "print('train_identity shape is: {}'.format(trainIdentityDF.shape))\n",
    "\n",
    "print('test_transaction shape is: {}'.format(testTransactionDF.shape))\n",
    "print('test_identity shape is: {}'.format(testIdentityDF.shape))"
   ]
  },
  {
   "cell_type": "code",
   "execution_count": 4,
   "id": "2a468f47",
   "metadata": {},
   "outputs": [],
   "source": [
    "train = pd.merge(trainTransactionDF, trainIdentityDF, how = 'left', on = 'TransactionID')\n",
    "\n",
    "test = pd.merge(testTransactionDF, testIdentityDF, how = 'left', on = 'TransactionID')"
   ]
  },
  {
   "cell_type": "code",
   "execution_count": 5,
   "id": "261f0497",
   "metadata": {},
   "outputs": [
    {
     "data": {
      "text/plain": [
       "(590540, 434)"
      ]
     },
     "execution_count": 5,
     "metadata": {},
     "output_type": "execute_result"
    }
   ],
   "source": [
    "train.shape"
   ]
  },
  {
   "cell_type": "code",
   "execution_count": 6,
   "id": "9d9f8097",
   "metadata": {},
   "outputs": [
    {
     "data": {
      "text/plain": [
       "(506691, 433)"
      ]
     },
     "execution_count": 6,
     "metadata": {},
     "output_type": "execute_result"
    }
   ],
   "source": [
    "test.shape"
   ]
  },
  {
   "cell_type": "code",
   "execution_count": 7,
   "id": "a87e326b",
   "metadata": {},
   "outputs": [],
   "source": [
    "del trainTransactionDF, trainIdentityDF, testTransactionDF, testIdentityDF"
   ]
  },
  {
   "cell_type": "code",
   "execution_count": 8,
   "id": "9c507b59",
   "metadata": {},
   "outputs": [
    {
     "name": "stdout",
     "output_type": "stream",
     "text": [
      "isFraud\n",
      "id_01\n",
      "id_02\n",
      "id_03\n",
      "id_04\n",
      "id_05\n",
      "id_06\n",
      "id_07\n",
      "id_08\n",
      "id_09\n",
      "id_10\n",
      "id_11\n",
      "id_12\n",
      "id_13\n",
      "id_14\n",
      "id_15\n",
      "id_16\n",
      "id_17\n",
      "id_18\n",
      "id_19\n",
      "id_20\n",
      "id_21\n",
      "id_22\n",
      "id_23\n",
      "id_24\n",
      "id_25\n",
      "id_26\n",
      "id_27\n",
      "id_28\n",
      "id_29\n",
      "id_30\n",
      "id_31\n",
      "id_32\n",
      "id_33\n",
      "id_34\n",
      "id_35\n",
      "id_36\n",
      "id_37\n",
      "id_38\n"
     ]
    }
   ],
   "source": [
    "def different_columns(traincols, testcols):\n",
    "    \n",
    "    for i in traincols:\n",
    "        \n",
    "        if i not in testcols:\n",
    "            \n",
    "            print(i)\n",
    "            \n",
    "different_columns(train.columns, test.columns)"
   ]
  },
  {
   "cell_type": "code",
   "execution_count": 9,
   "id": "8afd782a",
   "metadata": {},
   "outputs": [
    {
     "data": {
      "text/html": [
       "<div>\n",
       "<style scoped>\n",
       "    .dataframe tbody tr th:only-of-type {\n",
       "        vertical-align: middle;\n",
       "    }\n",
       "\n",
       "    .dataframe tbody tr th {\n",
       "        vertical-align: top;\n",
       "    }\n",
       "\n",
       "    .dataframe thead th {\n",
       "        text-align: right;\n",
       "    }\n",
       "</style>\n",
       "<table border=\"1\" class=\"dataframe\">\n",
       "  <thead>\n",
       "    <tr style=\"text-align: right;\">\n",
       "      <th></th>\n",
       "      <th>TransactionID</th>\n",
       "      <th>TransactionDT</th>\n",
       "      <th>TransactionAmt</th>\n",
       "      <th>ProductCD</th>\n",
       "      <th>card1</th>\n",
       "      <th>card2</th>\n",
       "      <th>card3</th>\n",
       "      <th>card4</th>\n",
       "      <th>card5</th>\n",
       "      <th>card6</th>\n",
       "      <th>...</th>\n",
       "      <th>id_31</th>\n",
       "      <th>id_32</th>\n",
       "      <th>id_33</th>\n",
       "      <th>id_34</th>\n",
       "      <th>id_35</th>\n",
       "      <th>id_36</th>\n",
       "      <th>id_37</th>\n",
       "      <th>id_38</th>\n",
       "      <th>DeviceType</th>\n",
       "      <th>DeviceInfo</th>\n",
       "    </tr>\n",
       "  </thead>\n",
       "  <tbody>\n",
       "    <tr>\n",
       "      <th>0</th>\n",
       "      <td>3663549</td>\n",
       "      <td>18403224</td>\n",
       "      <td>31.95</td>\n",
       "      <td>W</td>\n",
       "      <td>10409</td>\n",
       "      <td>111.0</td>\n",
       "      <td>150.0</td>\n",
       "      <td>visa</td>\n",
       "      <td>226.0</td>\n",
       "      <td>debit</td>\n",
       "      <td>...</td>\n",
       "      <td>NaN</td>\n",
       "      <td>NaN</td>\n",
       "      <td>NaN</td>\n",
       "      <td>NaN</td>\n",
       "      <td>NaN</td>\n",
       "      <td>NaN</td>\n",
       "      <td>NaN</td>\n",
       "      <td>NaN</td>\n",
       "      <td>NaN</td>\n",
       "      <td>NaN</td>\n",
       "    </tr>\n",
       "    <tr>\n",
       "      <th>1</th>\n",
       "      <td>3663550</td>\n",
       "      <td>18403263</td>\n",
       "      <td>49.00</td>\n",
       "      <td>W</td>\n",
       "      <td>4272</td>\n",
       "      <td>111.0</td>\n",
       "      <td>150.0</td>\n",
       "      <td>visa</td>\n",
       "      <td>226.0</td>\n",
       "      <td>debit</td>\n",
       "      <td>...</td>\n",
       "      <td>NaN</td>\n",
       "      <td>NaN</td>\n",
       "      <td>NaN</td>\n",
       "      <td>NaN</td>\n",
       "      <td>NaN</td>\n",
       "      <td>NaN</td>\n",
       "      <td>NaN</td>\n",
       "      <td>NaN</td>\n",
       "      <td>NaN</td>\n",
       "      <td>NaN</td>\n",
       "    </tr>\n",
       "    <tr>\n",
       "      <th>2</th>\n",
       "      <td>3663551</td>\n",
       "      <td>18403310</td>\n",
       "      <td>171.00</td>\n",
       "      <td>W</td>\n",
       "      <td>4476</td>\n",
       "      <td>574.0</td>\n",
       "      <td>150.0</td>\n",
       "      <td>visa</td>\n",
       "      <td>226.0</td>\n",
       "      <td>debit</td>\n",
       "      <td>...</td>\n",
       "      <td>NaN</td>\n",
       "      <td>NaN</td>\n",
       "      <td>NaN</td>\n",
       "      <td>NaN</td>\n",
       "      <td>NaN</td>\n",
       "      <td>NaN</td>\n",
       "      <td>NaN</td>\n",
       "      <td>NaN</td>\n",
       "      <td>NaN</td>\n",
       "      <td>NaN</td>\n",
       "    </tr>\n",
       "    <tr>\n",
       "      <th>3</th>\n",
       "      <td>3663552</td>\n",
       "      <td>18403310</td>\n",
       "      <td>284.95</td>\n",
       "      <td>W</td>\n",
       "      <td>10989</td>\n",
       "      <td>360.0</td>\n",
       "      <td>150.0</td>\n",
       "      <td>visa</td>\n",
       "      <td>166.0</td>\n",
       "      <td>debit</td>\n",
       "      <td>...</td>\n",
       "      <td>NaN</td>\n",
       "      <td>NaN</td>\n",
       "      <td>NaN</td>\n",
       "      <td>NaN</td>\n",
       "      <td>NaN</td>\n",
       "      <td>NaN</td>\n",
       "      <td>NaN</td>\n",
       "      <td>NaN</td>\n",
       "      <td>NaN</td>\n",
       "      <td>NaN</td>\n",
       "    </tr>\n",
       "    <tr>\n",
       "      <th>4</th>\n",
       "      <td>3663553</td>\n",
       "      <td>18403317</td>\n",
       "      <td>67.95</td>\n",
       "      <td>W</td>\n",
       "      <td>18018</td>\n",
       "      <td>452.0</td>\n",
       "      <td>150.0</td>\n",
       "      <td>mastercard</td>\n",
       "      <td>117.0</td>\n",
       "      <td>debit</td>\n",
       "      <td>...</td>\n",
       "      <td>NaN</td>\n",
       "      <td>NaN</td>\n",
       "      <td>NaN</td>\n",
       "      <td>NaN</td>\n",
       "      <td>NaN</td>\n",
       "      <td>NaN</td>\n",
       "      <td>NaN</td>\n",
       "      <td>NaN</td>\n",
       "      <td>NaN</td>\n",
       "      <td>NaN</td>\n",
       "    </tr>\n",
       "  </tbody>\n",
       "</table>\n",
       "<p>5 rows × 433 columns</p>\n",
       "</div>"
      ],
      "text/plain": [
       "   TransactionID  TransactionDT  TransactionAmt ProductCD  card1  card2  \\\n",
       "0        3663549       18403224           31.95         W  10409  111.0   \n",
       "1        3663550       18403263           49.00         W   4272  111.0   \n",
       "2        3663551       18403310          171.00         W   4476  574.0   \n",
       "3        3663552       18403310          284.95         W  10989  360.0   \n",
       "4        3663553       18403317           67.95         W  18018  452.0   \n",
       "\n",
       "   card3       card4  card5  card6  ...  id_31  id_32  id_33  id_34 id_35  \\\n",
       "0  150.0        visa  226.0  debit  ...    NaN    NaN    NaN    NaN   NaN   \n",
       "1  150.0        visa  226.0  debit  ...    NaN    NaN    NaN    NaN   NaN   \n",
       "2  150.0        visa  226.0  debit  ...    NaN    NaN    NaN    NaN   NaN   \n",
       "3  150.0        visa  166.0  debit  ...    NaN    NaN    NaN    NaN   NaN   \n",
       "4  150.0  mastercard  117.0  debit  ...    NaN    NaN    NaN    NaN   NaN   \n",
       "\n",
       "  id_36  id_37  id_38  DeviceType  DeviceInfo  \n",
       "0   NaN    NaN    NaN         NaN         NaN  \n",
       "1   NaN    NaN    NaN         NaN         NaN  \n",
       "2   NaN    NaN    NaN         NaN         NaN  \n",
       "3   NaN    NaN    NaN         NaN         NaN  \n",
       "4   NaN    NaN    NaN         NaN         NaN  \n",
       "\n",
       "[5 rows x 433 columns]"
      ]
     },
     "execution_count": 9,
     "metadata": {},
     "output_type": "execute_result"
    }
   ],
   "source": [
    "test = test.rename(columns = {\"id-01\": \"id_01\", \"id-02\": \"id_02\", \"id-03\": \"id_03\", \n",
    "                            \"id-06\": \"id_06\", \"id-05\": \"id_05\", \"id-04\": \"id_04\", \n",
    "                            \"id-07\": \"id_07\", \"id-08\": \"id_08\", \"id-09\": \"id_09\", \n",
    "                            \"id-10\": \"id_10\", \"id-11\": \"id_11\", \"id-12\": \"id_12\", \n",
    "                            \"id-15\": \"id_15\", \"id-14\": \"id_14\", \"id-13\": \"id_13\", \n",
    "                            \"id-16\": \"id_16\", \"id-17\": \"id_17\", \"id-18\": \"id_18\", \n",
    "                            \"id-21\": \"id_21\", \"id-20\": \"id_20\", \"id-19\": \"id_19\", \n",
    "                            \"id-22\": \"id_22\", \"id-23\": \"id_23\", \"id-24\": \"id_24\", \n",
    "                            \"id-27\": \"id_27\", \"id-26\": \"id_26\", \"id-25\": \"id_25\", \n",
    "                            \"id-28\": \"id_28\", \"id-29\": \"id_29\", \"id-30\": \"id_30\", \n",
    "                            \"id-31\": \"id_31\", \"id-32\": \"id_32\", \"id-33\": \"id_33\", \n",
    "                            \"id-34\": \"id_34\", \"id-35\": \"id_35\", \"id-36\": \"id_36\", \n",
    "                            \"id-37\": \"id_37\", \"id-38\": \"id_38\"})\n",
    "test.head()"
   ]
  },
  {
   "cell_type": "code",
   "execution_count": 10,
   "id": "3fe9093b",
   "metadata": {},
   "outputs": [
    {
     "name": "stdout",
     "output_type": "stream",
     "text": [
      "isFraud\n"
     ]
    }
   ],
   "source": [
    "different_columns(train.columns, test.columns)"
   ]
  },
  {
   "cell_type": "markdown",
   "id": "c12874d0",
   "metadata": {},
   "source": [
    "## Performing EDA"
   ]
  },
  {
   "cell_type": "code",
   "execution_count": 11,
   "id": "70d53ee7",
   "metadata": {},
   "outputs": [
    {
     "name": "stderr",
     "output_type": "stream",
     "text": [
      "C:\\Users\\Admin\\anaconda3\\lib\\site-packages\\seaborn\\_decorators.py:36: FutureWarning: Pass the following variables as keyword args: x, y. From version 0.12, the only valid positional argument will be `data`, and passing other arguments without an explicit keyword will result in an error or misinterpretation.\n",
      "  warnings.warn(\n"
     ]
    },
    {
     "data": {
      "image/png": "[encoded data removed]",
      "text/plain": [
       "<Figure size 360x360 with 1 Axes>"
      ]
     },
     "metadata": {
      "needs_background": "light"
     },
     "output_type": "display_data"
    }
   ],
   "source": [
    "fig = plt.figure(figsize = (5, 5))\n",
    "\n",
    "sns.barplot([0,1],train['isFraud'].value_counts().values)\n",
    "plt.show()"
   ]
  },
  {
   "cell_type": "code",
   "execution_count": 12,
   "id": "4781bc03",
   "metadata": {},
   "outputs": [
    {
     "data": {
      "text/plain": [
       "<AxesSubplot:ylabel='None'>"
      ]
     },
     "execution_count": 12,
     "metadata": {},
     "output_type": "execute_result"
    },
    {
     "data": {
      "image/png": "[encoded data removed]",
      "text/plain": [
       "<Figure size 432x288 with 1 Axes>"
      ]
     },
     "metadata": {},
     "output_type": "display_data"
    }
   ],
   "source": [
    "train.groupby(['isFraud']).size().plot.pie(autopct='%1.0f%%')"
   ]
  },
  {
   "cell_type": "code",
   "execution_count": 13,
   "id": "5f2807b9",
   "metadata": {},
   "outputs": [
    {
     "name": "stdout",
     "output_type": "stream",
     "text": [
      "115523073\n"
     ]
    }
   ],
   "source": [
    "tot_missing_value = train.isnull().sum().sum()\n",
    "print(tot_missing_value)"
   ]
  },
  {
   "cell_type": "code",
   "execution_count": 14,
   "id": "d4e2e83e",
   "metadata": {},
   "outputs": [
    {
     "data": {
      "text/plain": [
       "Text(0.5, 1.0, 'Train vs. Test TransactionDT Distribution')"
      ]
     },
     "execution_count": 14,
     "metadata": {},
     "output_type": "execute_result"
    },
    {
     "data": {
      "image/png": "[encoded data removed]",
      "text/plain": [
       "<Figure size 720x360 with 1 Axes>"
      ]
     },
     "metadata": {
      "needs_background": "light"
     },
     "output_type": "display_data"
    }
   ],
   "source": [
    "fig = plt.figure(figsize = (10, 5))\n",
    "\n",
    "plt.hist(train['TransactionDT'], label = 'Train', bins = 35, color = 'red')\n",
    "plt.hist(test['TransactionDT'], label = 'Test', bins = 35, color = 'yellow')\n",
    "plt.legend()\n",
    "\n",
    "plt.title('Train vs. Test TransactionDT Distribution')"
   ]
  },
  {
   "cell_type": "code",
   "execution_count": 15,
   "id": "92473574",
   "metadata": {},
   "outputs": [
    {
     "name": "stderr",
     "output_type": "stream",
     "text": [
      "C:\\Users\\Admin\\anaconda3\\lib\\site-packages\\seaborn\\distributions.py:2557: FutureWarning: `distplot` is a deprecated function and will be removed in a future version. Please adapt your code to use either `displot` (a figure-level function with similar flexibility) or `histplot` (an axes-level function for histograms).\n",
      "  warnings.warn(msg, FutureWarning)\n",
      "C:\\Users\\Admin\\anaconda3\\lib\\site-packages\\seaborn\\distributions.py:2557: FutureWarning: `distplot` is a deprecated function and will be removed in a future version. Please adapt your code to use either `displot` (a figure-level function with similar flexibility) or `histplot` (an axes-level function for histograms).\n",
      "  warnings.warn(msg, FutureWarning)\n"
     ]
    },
    {
     "data": {
      "image/png": "[encoded data removed]",
      "text/plain": [
       "<Figure size 1296x288 with 2 Axes>"
      ]
     },
     "metadata": {
      "needs_background": "light"
     },
     "output_type": "display_data"
    }
   ],
   "source": [
    "fig, ax = plt.subplots(1, 2, figsize = (18, 4))\n",
    "\n",
    "time_val = train['TransactionAmt'].values\n",
    "\n",
    "sns.distplot(time_val, ax = ax[0], color = 'red')\n",
    "ax[0].set_title('Train TransactionAmt Distribution', fontsize = 16)\n",
    "ax[1].set_xlim([min(time_val), max(time_val)])\n",
    "\n",
    "sns.distplot(np.log(time_val), ax = ax[1], color = 'green')\n",
    "ax[1].set_title('Train LOG TransactionAmt Distribution', fontsize = 16)\n",
    "ax[1].set_xlim([min(np.log(time_val)), max(np.log(time_val))])\n",
    "\n",
    "plt.show()"
   ]
  },
  {
   "cell_type": "code",
   "execution_count": 16,
   "id": "510c80cf",
   "metadata": {},
   "outputs": [
    {
     "name": "stderr",
     "output_type": "stream",
     "text": [
      "C:\\Users\\Admin\\anaconda3\\lib\\site-packages\\seaborn\\distributions.py:2557: FutureWarning: `distplot` is a deprecated function and will be removed in a future version. Please adapt your code to use either `displot` (a figure-level function with similar flexibility) or `histplot` (an axes-level function for histograms).\n",
      "  warnings.warn(msg, FutureWarning)\n",
      "C:\\Users\\Admin\\anaconda3\\lib\\site-packages\\seaborn\\distributions.py:2557: FutureWarning: `distplot` is a deprecated function and will be removed in a future version. Please adapt your code to use either `displot` (a figure-level function with similar flexibility) or `histplot` (an axes-level function for histograms).\n",
      "  warnings.warn(msg, FutureWarning)\n"
     ]
    },
    {
     "data": {
      "image/png": "[encoded data removed]",
      "text/plain": [
       "<Figure size 1296x288 with 2 Axes>"
      ]
     },
     "metadata": {
      "needs_background": "light"
     },
     "output_type": "display_data"
    }
   ],
   "source": [
    "fig, ax = plt.subplots(1, 2, figsize = (18,4))\n",
    "\n",
    "time_val = test['TransactionAmt'].values\n",
    "\n",
    "sns.distplot(time_val, ax = ax[0], color = 'red')\n",
    "ax[0].set_title('Test TransactionAmt Distribution', fontsize = 16)\n",
    "ax[1].set_xlim([min(time_val), max(time_val)])\n",
    "\n",
    "sns.distplot(np.log(time_val), ax = ax[1], color = 'green')\n",
    "ax[1].set_title('Test LOG TransactionAmt Distribution', fontsize = 16)\n",
    "ax[1].set_xlim([min(np.log(time_val)), max(np.log(time_val))])\n",
    "\n",
    "plt.show()"
   ]
  },
  {
   "cell_type": "code",
   "execution_count": 17,
   "id": "c3f24eaf",
   "metadata": {},
   "outputs": [
    {
     "data": {
      "image/png": "[encoded data removed]",
      "text/plain": [
       "<Figure size 1440x504 with 2 Axes>"
      ]
     },
     "metadata": {
      "needs_background": "light"
     },
     "output_type": "display_data"
    }
   ],
   "source": [
    "fig, ax = plt.subplots(1, 2, figsize = (20, 7))\n",
    "\n",
    "sns.countplot(x = \"ProductCD\", ax = ax[0], hue = \"isFraud\", data = train)\n",
    "ax[0].set_title('Train ProductCD', fontsize = 16)\n",
    "\n",
    "sns.countplot(x = \"ProductCD\", ax = ax[1], data = test)\n",
    "ax[1].set_title('Test ProductCD', fontsize = 16)\n",
    "\n",
    "plt.show()"
   ]
  },
  {
   "cell_type": "code",
   "execution_count": 18,
   "id": "6058b266",
   "metadata": {},
   "outputs": [
    {
     "name": "stdout",
     "output_type": "stream",
     "text": [
      "W    439670\n",
      "C     68519\n",
      "R     37699\n",
      "H     33024\n",
      "S     11628\n",
      "Name: ProductCD, dtype: int64\n",
      "\n",
      "-----------\n",
      "\n",
      "W    360987\n",
      "C     69266\n",
      "R     35647\n",
      "H     29373\n",
      "S     11418\n",
      "Name: ProductCD, dtype: int64\n"
     ]
    }
   ],
   "source": [
    "print(train['ProductCD'].value_counts())\n",
    "print('\\n-----------\\n')\n",
    "print(test['ProductCD'].value_counts())"
   ]
  },
  {
   "cell_type": "code",
   "execution_count": 19,
   "id": "e01b63e7",
   "metadata": {},
   "outputs": [
    {
     "data": {
      "image/png": "[encoded data removed]",
      "text/plain": [
       "<Figure size 720x144 with 1 Axes>"
      ]
     },
     "metadata": {
      "needs_background": "light"
     },
     "output_type": "display_data"
    },
    {
     "data": {
      "image/png": "[encoded data removed]",
      "text/plain": [
       "<Figure size 720x144 with 1 Axes>"
      ]
     },
     "metadata": {
      "needs_background": "light"
     },
     "output_type": "display_data"
    },
    {
     "data": {
      "image/png": "[encoded data removed]",
      "text/plain": [
       "<Figure size 720x144 with 1 Axes>"
      ]
     },
     "metadata": {
      "needs_background": "light"
     },
     "output_type": "display_data"
    },
    {
     "data": {
      "image/png": "[encoded data removed]",
      "text/plain": [
       "<Figure size 720x144 with 1 Axes>"
      ]
     },
     "metadata": {
      "needs_background": "light"
     },
     "output_type": "display_data"
    }
   ],
   "source": [
    "# Train Data\n",
    "\n",
    "card_cols = ['card1', 'card2', 'card3', 'card4', 'card5', 'card6']\n",
    "color_pal = ['cyan', 'yellow', 'blue', 'green', 'red']\n",
    "\n",
    "color_idx = 0\n",
    "\n",
    "for c in card_cols:\n",
    "    \n",
    "    if train[c].dtype in ['float64','int64']:\n",
    "        \n",
    "        train[c].plot(kind = 'hist',\n",
    "                      title = c,\n",
    "                      bins = 70,\n",
    "                      figsize = (10, 2),\n",
    "                      color = color_pal[color_idx])\n",
    "    color_idx += 1\n",
    "    \n",
    "    plt.show()"
   ]
  },
  {
   "cell_type": "code",
   "execution_count": 20,
   "id": "b8678853",
   "metadata": {},
   "outputs": [
    {
     "data": {
      "image/png": "[encoded data removed]",
      "text/plain": [
       "<Figure size 720x144 with 1 Axes>"
      ]
     },
     "metadata": {
      "needs_background": "light"
     },
     "output_type": "display_data"
    },
    {
     "data": {
      "image/png": "[encoded data removed]",
      "text/plain": [
       "<Figure size 720x144 with 1 Axes>"
      ]
     },
     "metadata": {
      "needs_background": "light"
     },
     "output_type": "display_data"
    },
    {
     "data": {
      "image/png": "[encoded data removed]",
      "text/plain": [
       "<Figure size 720x144 with 1 Axes>"
      ]
     },
     "metadata": {
      "needs_background": "light"
     },
     "output_type": "display_data"
    },
    {
     "data": {
      "image/png": "[encoded data removed]",
      "text/plain": [
       "<Figure size 720x144 with 1 Axes>"
      ]
     },
     "metadata": {
      "needs_background": "light"
     },
     "output_type": "display_data"
    }
   ],
   "source": [
    "# Test Data\n",
    "\n",
    "card_cols = ['card1', 'card2', 'card3', 'card4', 'card5', 'card6']\n",
    "color_pal = ['cyan', 'yellow', 'blue', 'green', 'red']\n",
    "\n",
    "color_idx = 0\n",
    "\n",
    "for c in card_cols:\n",
    "    \n",
    "    if test[c].dtype in ['float64','int64']:\n",
    "        \n",
    "        test[c].plot( kind = 'hist',\n",
    "                      title = c,\n",
    "                      bins = 70,\n",
    "                      figsize = (10, 2),\n",
    "                      color = color_pal[color_idx])\n",
    "    color_idx += 1\n",
    "    \n",
    "    plt.show()"
   ]
  },
  {
   "cell_type": "code",
   "execution_count": 21,
   "id": "c906188f",
   "metadata": {},
   "outputs": [
    {
     "data": {
      "image/png": "[encoded data removed]",
      "text/plain": [
       "<Figure size 1296x288 with 2 Axes>"
      ]
     },
     "metadata": {
      "needs_background": "light"
     },
     "output_type": "display_data"
    }
   ],
   "source": [
    "# card4\n",
    "\n",
    "fig, ax = plt.subplots(1, 2, figsize = (18, 4))\n",
    "\n",
    "sns.countplot(x = \"card4\", ax = ax[0], data = train.loc[train['isFraud'] == 0])\n",
    "ax[0].set_title('card4 isFraud = 0', fontsize = 16)\n",
    "\n",
    "sns.countplot(x = \"card4\", ax = ax[1], data = train.loc[train['isFraud'] == 1])\n",
    "ax[1].set_title('card4 isFraud = 1', fontsize = 16)\n",
    "\n",
    "plt.show()"
   ]
  },
  {
   "cell_type": "code",
   "execution_count": 22,
   "id": "88a0620e",
   "metadata": {},
   "outputs": [
    {
     "data": {
      "image/png": "[encoded data removed]",
      "text/plain": [
       "<Figure size 1296x288 with 2 Axes>"
      ]
     },
     "metadata": {
      "needs_background": "light"
     },
     "output_type": "display_data"
    }
   ],
   "source": [
    "#card6\n",
    "\n",
    "fig, ax = plt.subplots(1, 2, figsize = (18, 4))\n",
    "\n",
    "sns.countplot(x = \"card6\", ax = ax[0], data = train.loc[train['isFraud'] == 0])\n",
    "ax[0].set_title('card6 isFraud = 0', fontsize = 16)\n",
    "\n",
    "sns.countplot(x = \"card6\", ax = ax[1], data = train.loc[train['isFraud'] == 1])\n",
    "ax[1].set_title('card6 isFraud = 1', fontsize = 16)\n",
    "\n",
    "plt.show()"
   ]
  },
  {
   "cell_type": "code",
   "execution_count": 23,
   "id": "20fac4b1",
   "metadata": {},
   "outputs": [
    {
     "data": {
      "image/png": "[encoded data removed]",
      "text/plain": [
       "<Figure size 720x144 with 1 Axes>"
      ]
     },
     "metadata": {
      "needs_background": "light"
     },
     "output_type": "display_data"
    },
    {
     "data": {
      "image/png": "[encoded data removed]",
      "text/plain": [
       "<Figure size 720x144 with 1 Axes>"
      ]
     },
     "metadata": {
      "needs_background": "light"
     },
     "output_type": "display_data"
    }
   ],
   "source": [
    "train['addr1'].plot(kind = 'hist', bins = 500, figsize = (10, 2), title = 'addr1 distribution', color = 'red')\n",
    "plt.show()\n",
    "\n",
    "train['addr2'].plot(kind = 'hist', bins = 500, figsize = (10, 2), title = 'addr2 distribution', color = 'green')\n",
    "plt.show()"
   ]
  },
  {
   "cell_type": "code",
   "execution_count": 24,
   "id": "3a2562c0",
   "metadata": {},
   "outputs": [
    {
     "data": {
      "text/plain": [
       "gmail.com           228355\n",
       "yahoo.com           100934\n",
       "hotmail.com          45250\n",
       "anonymous.com        36998\n",
       "aol.com              28289\n",
       "comcast.net           7888\n",
       "icloud.com            6267\n",
       "outlook.com           5096\n",
       "msn.com               4092\n",
       "att.net               4033\n",
       "live.com              3041\n",
       "sbcglobal.net         2970\n",
       "verizon.net           2705\n",
       "ymail.com             2396\n",
       "bellsouth.net         1909\n",
       "yahoo.com.mx          1543\n",
       "me.com                1522\n",
       "cox.net               1393\n",
       "optonline.net         1011\n",
       "charter.net            816\n",
       "live.com.mx            749\n",
       "rocketmail.com         664\n",
       "mail.com               559\n",
       "earthlink.net          514\n",
       "gmail                  496\n",
       "outlook.es             438\n",
       "mac.com                436\n",
       "juno.com               322\n",
       "aim.com                315\n",
       "roadrunner.com         305\n",
       "windstream.net         305\n",
       "hotmail.es             305\n",
       "hotmail.fr             295\n",
       "frontier.com           280\n",
       "embarqmail.com         260\n",
       "web.de                 240\n",
       "twc.com                230\n",
       "netzero.com            230\n",
       "prodigy.net.mx         207\n",
       "centurylink.net        205\n",
       "netzero.net            196\n",
       "frontiernet.net        195\n",
       "q.com                  189\n",
       "suddenlink.net         175\n",
       "cfl.rr.com             172\n",
       "sc.rr.com              164\n",
       "cableone.net           159\n",
       "gmx.de                 149\n",
       "yahoo.fr               143\n",
       "yahoo.es               134\n",
       "hotmail.co.uk          112\n",
       "protonmail.com          76\n",
       "yahoo.de                74\n",
       "ptd.net                 68\n",
       "live.fr                 56\n",
       "yahoo.co.uk             49\n",
       "hotmail.de              43\n",
       "servicios-ta.com        35\n",
       "yahoo.co.jp             32\n",
       "Name: P_emaildomain, dtype: int64"
      ]
     },
     "execution_count": 24,
     "metadata": {},
     "output_type": "execute_result"
    }
   ],
   "source": [
    "train['P_emaildomain'].value_counts()"
   ]
  },
  {
   "cell_type": "code",
   "execution_count": 25,
   "id": "a655e898",
   "metadata": {},
   "outputs": [
    {
     "data": {
      "text/plain": [
       "gmail.com           207448\n",
       "yahoo.com            81850\n",
       "hotmail.com          40399\n",
       "anonymous.com        34064\n",
       "aol.com              24048\n",
       "comcast.net           6586\n",
       "icloud.com            6049\n",
       "outlook.com           4838\n",
       "att.net               3614\n",
       "msn.com               3388\n",
       "sbcglobal.net         2797\n",
       "live.com              2679\n",
       "verizon.net           2306\n",
       "ymail.com             1679\n",
       "bellsouth.net         1528\n",
       "yahoo.com.mx          1284\n",
       "cox.net               1264\n",
       "me.com                1191\n",
       "optonline.net          926\n",
       "live.com.mx            721\n",
       "charter.net            627\n",
       "mail.com               597\n",
       "gmail                  497\n",
       "earthlink.net          465\n",
       "rocketmail.com         441\n",
       "mac.com                426\n",
       "outlook.es             425\n",
       "hotmail.fr             379\n",
       "hotmail.es             322\n",
       "frontier.com           314\n",
       "roadrunner.com         278\n",
       "web.de                 278\n",
       "juno.com               252\n",
       "windstream.net         247\n",
       "hotmail.co.uk          222\n",
       "twc.com                209\n",
       "embarqmail.com         204\n",
       "frontiernet.net        202\n",
       "yahoo.fr               201\n",
       "centurylink.net        181\n",
       "q.com                  173\n",
       "netzero.com            157\n",
       "aim.com                153\n",
       "cableone.net           152\n",
       "gmx.de                 149\n",
       "suddenlink.net         148\n",
       "cfl.rr.com             146\n",
       "yahoo.es               138\n",
       "netzero.net            123\n",
       "sc.rr.com              113\n",
       "prodigy.net.mx          96\n",
       "hotmail.de              87\n",
       "protonmail.com          83\n",
       "ptd.net                 72\n",
       "yahoo.co.jp             69\n",
       "yahoo.de                63\n",
       "yahoo.co.uk             54\n",
       "live.fr                 50\n",
       "servicios-ta.com        45\n",
       "scranton.edu             2\n",
       "Name: P_emaildomain, dtype: int64"
      ]
     },
     "execution_count": 25,
     "metadata": {},
     "output_type": "execute_result"
    }
   ],
   "source": [
    "test['P_emaildomain'].value_counts()"
   ]
  },
  {
   "cell_type": "code",
   "execution_count": 26,
   "id": "54898a29",
   "metadata": {},
   "outputs": [
    {
     "data": {
      "image/png": "[encoded data removed]",
      "text/plain": [
       "<Figure size 1296x504 with 2 Axes>"
      ]
     },
     "metadata": {
      "needs_background": "light"
     },
     "output_type": "display_data"
    }
   ],
   "source": [
    "fig, ax = plt.subplots(1, 2, figsize = (18, 7))\n",
    "\n",
    "sns.countplot(x = \"P_emaildomain\", ax = ax[0], data = train.loc[train['isFraud'] == 0])\n",
    "ax[0].set_title('P_emaildomain isFraud = 0', fontsize = 16)\n",
    "ax[0].set_xticklabels(ax[0].get_xticklabels(),rotation = 90)\n",
    "sns.countplot(x = \"P_emaildomain\", ax = ax[1], data = train.loc[train['isFraud'] == 1])\n",
    "ax[1].set_title('P_emaildomain isFraud = 1', fontsize = 16)\n",
    "ax[1].set_xticklabels(ax[1].get_xticklabels(),rotation = 90)\n",
    "\n",
    "plt.show()"
   ]
  },
  {
   "cell_type": "code",
   "execution_count": 27,
   "id": "61e30b9b",
   "metadata": {},
   "outputs": [
    {
     "data": {
      "image/png": "[encoded data removed]",
      "text/plain": [
       "<Figure size 1296x504 with 2 Axes>"
      ]
     },
     "metadata": {
      "needs_background": "light"
     },
     "output_type": "display_data"
    }
   ],
   "source": [
    "fig, ax = plt.subplots(1, 2, figsize = (18, 7))\n",
    "\n",
    "sns.countplot(x = \"R_emaildomain\", ax = ax[0], data = train.loc[train['isFraud'] == 0])\n",
    "ax[0].set_title('R_emaildomain isFraud = 0', fontsize = 16)\n",
    "ax[0].set_xticklabels(ax[0].get_xticklabels(),rotation = 90)\n",
    "sns.countplot(x = \"R_emaildomain\", ax = ax[1], data = train.loc[train['isFraud'] == 1])\n",
    "ax[1].set_title('R_emaildomain isFraud = 1', fontsize = 16)\n",
    "ax[1].set_xticklabels(ax[1].get_xticklabels(),rotation = 90)\n",
    "\n",
    "plt.show()"
   ]
  },
  {
   "cell_type": "code",
   "execution_count": 28,
   "id": "73695f90",
   "metadata": {},
   "outputs": [],
   "source": [
    "def getNulls(data):\n",
    "    \n",
    "    total = data.isnull().sum()\n",
    "    percent = data.isnull().sum() / data.isnull().count()\n",
    "    missing_data = pd.concat([total, percent], axis = 1, keys = ['total', 'precent'])\n",
    "    \n",
    "    return missing_data"
   ]
  },
  {
   "cell_type": "code",
   "execution_count": 29,
   "id": "82ea03b4",
   "metadata": {},
   "outputs": [
    {
     "data": {
      "text/html": [
       "<div>\n",
       "<style scoped>\n",
       "    .dataframe tbody tr th:only-of-type {\n",
       "        vertical-align: middle;\n",
       "    }\n",
       "\n",
       "    .dataframe tbody tr th {\n",
       "        vertical-align: top;\n",
       "    }\n",
       "\n",
       "    .dataframe thead th {\n",
       "        text-align: right;\n",
       "    }\n",
       "</style>\n",
       "<table border=\"1\" class=\"dataframe\">\n",
       "  <thead>\n",
       "    <tr style=\"text-align: right;\">\n",
       "      <th></th>\n",
       "      <th>TransactionID</th>\n",
       "      <th>isFraud</th>\n",
       "      <th>TransactionDT</th>\n",
       "      <th>TransactionAmt</th>\n",
       "      <th>ProductCD</th>\n",
       "      <th>card1</th>\n",
       "      <th>card2</th>\n",
       "      <th>card3</th>\n",
       "      <th>card4</th>\n",
       "      <th>card5</th>\n",
       "      <th>...</th>\n",
       "      <th>id_31</th>\n",
       "      <th>id_32</th>\n",
       "      <th>id_33</th>\n",
       "      <th>id_34</th>\n",
       "      <th>id_35</th>\n",
       "      <th>id_36</th>\n",
       "      <th>id_37</th>\n",
       "      <th>id_38</th>\n",
       "      <th>DeviceType</th>\n",
       "      <th>DeviceInfo</th>\n",
       "    </tr>\n",
       "  </thead>\n",
       "  <tbody>\n",
       "    <tr>\n",
       "      <th>total</th>\n",
       "      <td>0.0</td>\n",
       "      <td>0.0</td>\n",
       "      <td>0.0</td>\n",
       "      <td>0.0</td>\n",
       "      <td>0.0</td>\n",
       "      <td>0.0</td>\n",
       "      <td>8933.000000</td>\n",
       "      <td>1565.00000</td>\n",
       "      <td>1577.00000</td>\n",
       "      <td>4259.000000</td>\n",
       "      <td>...</td>\n",
       "      <td>450258.000000</td>\n",
       "      <td>512954.000000</td>\n",
       "      <td>517251.000000</td>\n",
       "      <td>512735.000000</td>\n",
       "      <td>449555.000000</td>\n",
       "      <td>449555.000000</td>\n",
       "      <td>449555.000000</td>\n",
       "      <td>449555.000000</td>\n",
       "      <td>449730.000000</td>\n",
       "      <td>471874.000000</td>\n",
       "    </tr>\n",
       "    <tr>\n",
       "      <th>precent</th>\n",
       "      <td>0.0</td>\n",
       "      <td>0.0</td>\n",
       "      <td>0.0</td>\n",
       "      <td>0.0</td>\n",
       "      <td>0.0</td>\n",
       "      <td>0.0</td>\n",
       "      <td>0.015127</td>\n",
       "      <td>0.00265</td>\n",
       "      <td>0.00267</td>\n",
       "      <td>0.007212</td>\n",
       "      <td>...</td>\n",
       "      <td>0.762451</td>\n",
       "      <td>0.868619</td>\n",
       "      <td>0.875895</td>\n",
       "      <td>0.868248</td>\n",
       "      <td>0.761261</td>\n",
       "      <td>0.761261</td>\n",
       "      <td>0.761261</td>\n",
       "      <td>0.761261</td>\n",
       "      <td>0.761557</td>\n",
       "      <td>0.799055</td>\n",
       "    </tr>\n",
       "  </tbody>\n",
       "</table>\n",
       "<p>2 rows × 434 columns</p>\n",
       "</div>"
      ],
      "text/plain": [
       "         TransactionID  isFraud  TransactionDT  TransactionAmt  ProductCD  \\\n",
       "total              0.0      0.0            0.0             0.0        0.0   \n",
       "precent            0.0      0.0            0.0             0.0        0.0   \n",
       "\n",
       "         card1        card2       card3       card4        card5  ...  \\\n",
       "total      0.0  8933.000000  1565.00000  1577.00000  4259.000000  ...   \n",
       "precent    0.0     0.015127     0.00265     0.00267     0.007212  ...   \n",
       "\n",
       "                 id_31          id_32          id_33          id_34  \\\n",
       "total    450258.000000  512954.000000  517251.000000  512735.000000   \n",
       "precent       0.762451       0.868619       0.875895       0.868248   \n",
       "\n",
       "                 id_35          id_36          id_37          id_38  \\\n",
       "total    449555.000000  449555.000000  449555.000000  449555.000000   \n",
       "precent       0.761261       0.761261       0.761261       0.761261   \n",
       "\n",
       "            DeviceType     DeviceInfo  \n",
       "total    449730.000000  471874.000000  \n",
       "precent       0.761557       0.799055  \n",
       "\n",
       "[2 rows x 434 columns]"
      ]
     },
     "execution_count": 29,
     "metadata": {},
     "output_type": "execute_result"
    }
   ],
   "source": [
    "missing_data_train = getNulls(train)\n",
    "missing_data_train.head(train.shape[1]).T"
   ]
  },
  {
   "cell_type": "code",
   "execution_count": 30,
   "id": "958bc332",
   "metadata": {},
   "outputs": [],
   "source": [
    "# Reducing memory\n",
    "def detect_num_cols_to_shrink(list_of_num_cols, dataframe):\n",
    " \n",
    "    convert_to_int8 = []\n",
    "    convert_to_int16 = []\n",
    "    convert_to_int32 = []\n",
    "    \n",
    "    #  sadly the datatype float8 does not exist\n",
    "    convert_to_float16 = []\n",
    "    convert_to_float32 = []\n",
    "    \n",
    "    for col in list_of_num_cols:\n",
    "        \n",
    "        if dataframe[col].dtype in ['int', 'int8', 'int32', 'int64']:\n",
    "            \n",
    "            describe_object = dataframe[col].describe()\n",
    "            minimum = describe_object[3]\n",
    "            maximum = describe_object[7]\n",
    "            diff = abs(maximum - minimum)\n",
    "\n",
    "            if diff < 255:\n",
    "                convert_to_int8.append(col)\n",
    "                \n",
    "            elif diff < 65535:\n",
    "                convert_to_int16.append(col)\n",
    "                \n",
    "            elif diff < 4294967295:\n",
    "                convert_to_int32.append(col)   \n",
    "                \n",
    "        elif dataframe[col].dtype in ['float', 'float16', 'float32', 'float64']:\n",
    "            \n",
    "            describe_object = dataframe[col].describe()\n",
    "            minimum = describe_object[3]\n",
    "            maximum = describe_object[7]\n",
    "            diff = abs(maximum - minimum)\n",
    "\n",
    "            if diff < 65535:\n",
    "                convert_to_float16.append(col)\n",
    "                \n",
    "            elif diff < 4294967295:\n",
    "                convert_to_float32.append(col) \n",
    "        \n",
    "    list_of_lists = []\n",
    "    list_of_lists.append(convert_to_int8)\n",
    "    list_of_lists.append(convert_to_int16)\n",
    "    list_of_lists.append(convert_to_int32)\n",
    "    list_of_lists.append(convert_to_float16)\n",
    "    list_of_lists.append(convert_to_float32)\n",
    "    \n",
    "    return list_of_lists"
   ]
  },
  {
   "cell_type": "code",
   "execution_count": 31,
   "id": "6a6bf046",
   "metadata": {},
   "outputs": [],
   "source": [
    "num_train_cols = ['TransactionID', 'isFraud', 'TransactionDT', 'TransactionAmt', 'card1', 'dist1', 'dist2', 'C1', 'C2', 'C3', 'C4', 'C5', 'C6', 'C7', 'C8', 'C9', 'C10', 'C11', 'C12', 'C13', 'C14', 'D1', 'D2', 'D3', 'D4', 'D5', 'D6', 'D7', 'D8', 'D9', 'D10', 'D11', 'D12', 'D13', 'D14', 'D15', 'V1', 'V2', 'V3', 'V4', 'V5', 'V6', 'V7', 'V8', 'V9', 'V10', 'V11', 'V12', 'V13', 'V14', 'V15', 'V16', 'V17', 'V18', 'V19', 'V20', 'V21', 'V22', 'V23', 'V24', 'V25', 'V26', 'V27', 'V28', 'V29', 'V30', 'V31', 'V32', 'V33', 'V34', 'V35', 'V36', 'V37', 'V38', 'V39', 'V40', 'V41', 'V42', 'V43', 'V44', 'V45', 'V46', 'V47', 'V48', 'V49', 'V50', 'V51', 'V52', 'V53', 'V54', 'V55', 'V56', 'V57', 'V58', 'V59', 'V60', 'V61', 'V62', 'V63', 'V64', 'V65', 'V66', 'V67', 'V68', 'V69', 'V70', 'V71', 'V72', 'V73', 'V74', 'V75', 'V76', 'V77', 'V78', 'V79', 'V80', 'V81', 'V82', 'V83', 'V84', 'V85', 'V86', 'V87', 'V88', 'V89', 'V90', 'V91', 'V92', 'V93', 'V94', 'V95', 'V96', 'V97', 'V98', 'V99', 'V100', 'V101', 'V102', 'V103', 'V104', 'V105', 'V106', 'V107', 'V108', 'V109', 'V110', 'V111', 'V112', 'V113', 'V114', 'V115', 'V116', 'V117', 'V118', 'V119', 'V120', 'V121', 'V122', 'V123', 'V124', 'V125', 'V126', 'V127', 'V128', 'V129', 'V130', 'V131', 'V132', 'V133', 'V134', 'V135', 'V136', 'V137', 'V138', 'V139', 'V140', 'V141', 'V142', 'V143', 'V144', 'V145', 'V146', 'V147', 'V148', 'V149', 'V150', 'V151', 'V152', 'V153', 'V154', 'V155', 'V156', 'V157', 'V158', 'V159', 'V160', 'V161', 'V162', 'V163', 'V164', 'V165', 'V166', 'V167', 'V168', 'V169', 'V170', 'V171', 'V172', 'V173', 'V174', 'V175', 'V176', 'V177', 'V178', 'V179', 'V180', 'V181', 'V182', 'V183', 'V184', 'V185', 'V186', 'V187', 'V188', 'V189', 'V190', 'V191', 'V192', 'V193', 'V194', 'V195', 'V196', 'V197', 'V198', 'V199', 'V200', 'V201', 'V202', 'V203', 'V204', 'V205', 'V206', 'V207', 'V208', 'V209', 'V210', 'V211', 'V212', 'V213', 'V214', 'V215', 'V216', 'V217', 'V218', 'V219', 'V220', 'V221', 'V222', 'V223', 'V224', 'V225', 'V226', 'V227', 'V228', 'V229', 'V230', 'V231', 'V232', 'V233', 'V234', 'V235', 'V236', 'V237', 'V238', 'V239', 'V240', 'V241', 'V242', 'V243', 'V244', 'V245', 'V246', 'V247', 'V248', 'V249', 'V250', 'V251', 'V252', 'V253', 'V254', 'V255', 'V256', 'V257', 'V258', 'V259', 'V260', 'V261', 'V262', 'V263', 'V264', 'V265', 'V266', 'V267', 'V268', 'V269', 'V270', 'V271', 'V272', 'V273', 'V274', 'V275', 'V276', 'V277', 'V278', 'V279', 'V280', 'V281', 'V282', 'V283', 'V284', 'V285', 'V286', 'V287', 'V288', 'V289', 'V290', 'V291', 'V292', 'V293', 'V294', 'V295', 'V296', 'V297', 'V298', 'V299', 'V300', 'V301', 'V302', 'V303', 'V304', 'V305', 'V306', 'V307', 'V308', 'V309', 'V310', 'V311', 'V312', 'V313', 'V314', 'V315', 'V316', 'V317', 'V318', 'V319', 'V320', 'V321', 'V322', 'V323', 'V324', 'V325', 'V326', 'V327', 'V328', 'V329', 'V330', 'V331', 'V332', 'V333', 'V334', 'V335', 'V336', 'V337', 'V338', 'V339', 'id_01', 'id_02', 'id_03', 'id_04', 'id_05', 'id_06', 'id_07', 'id_08', 'id_09', 'id_10', 'id_11', 'id_13', 'id_14', 'id_17', 'id_18', 'id_19', 'id_20', 'id_21', 'id_22', 'id_24', 'id_25', 'id_26', 'id_32']"
   ]
  },
  {
   "cell_type": "code",
   "execution_count": 32,
   "id": "2528cf71",
   "metadata": {},
   "outputs": [
    {
     "name": "stdout",
     "output_type": "stream",
     "text": [
      "convert_to_int8 : ['isFraud'] \n",
      "\n",
      "convert_to_int16 : ['card1'] \n",
      "\n",
      "convert_to_int32 : ['TransactionID', 'TransactionDT'] \n",
      "\n",
      "convert_to_float16 : ['TransactionAmt', 'dist1', 'dist2', 'C1', 'C2', 'C3', 'C4', 'C5', 'C6', 'C7', 'C8', 'C9', 'C10', 'C11', 'C12', 'C13', 'C14', 'D1', 'D2', 'D3', 'D4', 'D5', 'D6', 'D7', 'D8', 'D9', 'D10', 'D11', 'D12', 'D13', 'D14', 'D15', 'V1', 'V2', 'V3', 'V4', 'V5', 'V6', 'V7', 'V8', 'V9', 'V10', 'V11', 'V12', 'V13', 'V14', 'V15', 'V16', 'V17', 'V18', 'V19', 'V20', 'V21', 'V22', 'V23', 'V24', 'V25', 'V26', 'V27', 'V28', 'V29', 'V30', 'V31', 'V32', 'V33', 'V34', 'V35', 'V36', 'V37', 'V38', 'V39', 'V40', 'V41', 'V42', 'V43', 'V44', 'V45', 'V46', 'V47', 'V48', 'V49', 'V50', 'V51', 'V52', 'V53', 'V54', 'V55', 'V56', 'V57', 'V58', 'V59', 'V60', 'V61', 'V62', 'V63', 'V64', 'V65', 'V66', 'V67', 'V68', 'V69', 'V70', 'V71', 'V72', 'V73', 'V74', 'V75', 'V76', 'V77', 'V78', 'V79', 'V80', 'V81', 'V82', 'V83', 'V84', 'V85', 'V86', 'V87', 'V88', 'V89', 'V90', 'V91', 'V92', 'V93', 'V94', 'V95', 'V96', 'V97', 'V98', 'V99', 'V100', 'V101', 'V102', 'V103', 'V104', 'V105', 'V106', 'V107', 'V108', 'V109', 'V110', 'V111', 'V112', 'V113', 'V114', 'V115', 'V116', 'V117', 'V118', 'V119', 'V120', 'V121', 'V122', 'V123', 'V124', 'V125', 'V129', 'V130', 'V131', 'V138', 'V139', 'V140', 'V141', 'V142', 'V143', 'V144', 'V145', 'V146', 'V147', 'V148', 'V149', 'V150', 'V151', 'V152', 'V153', 'V154', 'V155', 'V156', 'V157', 'V158', 'V159', 'V161', 'V162', 'V163', 'V167', 'V168', 'V169', 'V170', 'V171', 'V172', 'V173', 'V174', 'V175', 'V176', 'V177', 'V178', 'V179', 'V180', 'V181', 'V182', 'V183', 'V184', 'V185', 'V186', 'V187', 'V188', 'V189', 'V190', 'V191', 'V192', 'V193', 'V194', 'V195', 'V196', 'V197', 'V198', 'V199', 'V200', 'V201', 'V205', 'V206', 'V207', 'V208', 'V209', 'V210', 'V217', 'V218', 'V219', 'V220', 'V221', 'V222', 'V223', 'V224', 'V225', 'V226', 'V227', 'V228', 'V229', 'V230', 'V231', 'V232', 'V233', 'V234', 'V235', 'V236', 'V237', 'V238', 'V239', 'V240', 'V241', 'V242', 'V243', 'V244', 'V245', 'V246', 'V247', 'V248', 'V249', 'V250', 'V251', 'V252', 'V253', 'V254', 'V255', 'V256', 'V257', 'V258', 'V259', 'V260', 'V261', 'V262', 'V266', 'V267', 'V268', 'V269', 'V270', 'V271', 'V272', 'V273', 'V275', 'V279', 'V280', 'V281', 'V282', 'V283', 'V284', 'V285', 'V286', 'V287', 'V288', 'V289', 'V290', 'V291', 'V292', 'V293', 'V294', 'V295', 'V296', 'V297', 'V298', 'V299', 'V300', 'V301', 'V302', 'V303', 'V304', 'V305', 'V309', 'V310', 'V311', 'V312', 'V313', 'V314', 'V315', 'V322', 'V323', 'V324', 'V325', 'V326', 'V327', 'V328', 'V329', 'V330', 'V334', 'V335', 'V336', 'id_01', 'id_03', 'id_04', 'id_05', 'id_06', 'id_07', 'id_08', 'id_09', 'id_10', 'id_11', 'id_13', 'id_14', 'id_17', 'id_18', 'id_19', 'id_20', 'id_21', 'id_22', 'id_24', 'id_25', 'id_26', 'id_32'] \n",
      "\n",
      "convert_to_float32 : ['V126', 'V127', 'V128', 'V132', 'V133', 'V134', 'V135', 'V136', 'V137', 'V160', 'V164', 'V165', 'V166', 'V202', 'V203', 'V204', 'V211', 'V212', 'V213', 'V214', 'V215', 'V216', 'V263', 'V264', 'V265', 'V274', 'V276', 'V277', 'V278', 'V306', 'V307', 'V308', 'V316', 'V317', 'V318', 'V319', 'V320', 'V321', 'V331', 'V332', 'V333', 'V337', 'V338', 'V339', 'id_02'] \n",
      "\n"
     ]
    }
   ],
   "source": [
    "num_cols_to_shrink_train = detect_num_cols_to_shrink(num_train_cols, train)\n",
    "\n",
    "convert_to_int8 = num_cols_to_shrink_train[0]\n",
    "convert_to_int16 = num_cols_to_shrink_train[1]\n",
    "convert_to_int32 = num_cols_to_shrink_train[2]\n",
    "\n",
    "convert_to_float16 = num_cols_to_shrink_train[3]\n",
    "convert_to_float32 = num_cols_to_shrink_train[4]\n",
    "\n",
    "print(\"convert_to_int8 :\", convert_to_int8, \"\\n\")\n",
    "print(\"convert_to_int16 :\", convert_to_int16, \"\\n\")\n",
    "print(\"convert_to_int32 :\", convert_to_int32, \"\\n\")\n",
    "\n",
    "print(\"convert_to_float16 :\", convert_to_float16, \"\\n\")\n",
    "print(\"convert_to_float32 :\", convert_to_float32, \"\\n\")"
   ]
  },
  {
   "cell_type": "code",
   "execution_count": 33,
   "id": "befed56f",
   "metadata": {},
   "outputs": [
    {
     "name": "stdout",
     "output_type": "stream",
     "text": [
      "starting with converting process....\n",
      "successfully converted!\n"
     ]
    }
   ],
   "source": [
    "print(\"starting with converting process....\")\n",
    "\n",
    "for col in convert_to_int16:\n",
    "    \n",
    "    train[col] = train[col].astype('int16') \n",
    "    \n",
    "for col in convert_to_int32:\n",
    "    train[col] = train[col].astype('int32') \n",
    "\n",
    "for col in convert_to_float16:\n",
    "    train[col] = train[col].astype('float16')\n",
    "    \n",
    "for col in convert_to_float32:\n",
    "    train[col] = train[col].astype('float32')\n",
    "    \n",
    "print(\"successfully converted!\")"
   ]
  },
  {
   "cell_type": "code",
   "execution_count": 34,
   "id": "0b7fda50",
   "metadata": {},
   "outputs": [],
   "source": [
    "num_test_cols = ['TransactionID', 'TransactionDT', 'TransactionAmt', 'card1', 'dist1', 'dist2', 'C1', 'C2', 'C3', 'C4', 'C5', 'C6', 'C7', 'C8', 'C9', 'C10', 'C11', 'C12', 'C13', 'C14', 'D1', 'D2', 'D3', 'D4', 'D5', 'D6', 'D7', 'D8', 'D9', 'D10', 'D11', 'D12', 'D13', 'D14', 'D15', 'V1', 'V2', 'V3', 'V4', 'V5', 'V6', 'V7', 'V8', 'V9', 'V10', 'V11', 'V12', 'V13', 'V14', 'V15', 'V16', 'V17', 'V18', 'V19', 'V20', 'V21', 'V22', 'V23', 'V24', 'V25', 'V26', 'V27', 'V28', 'V29', 'V30', 'V31', 'V32', 'V33', 'V34', 'V35', 'V36', 'V37', 'V38', 'V39', 'V40', 'V41', 'V42', 'V43', 'V44', 'V45', 'V46', 'V47', 'V48', 'V49', 'V50', 'V51', 'V52', 'V53', 'V54', 'V55', 'V56', 'V57', 'V58', 'V59', 'V60', 'V61', 'V62', 'V63', 'V64', 'V65', 'V66', 'V67', 'V68', 'V69', 'V70', 'V71', 'V72', 'V73', 'V74', 'V75', 'V76', 'V77', 'V78', 'V79', 'V80', 'V81', 'V82', 'V83', 'V84', 'V85', 'V86', 'V87', 'V88', 'V89', 'V90', 'V91', 'V92', 'V93', 'V94', 'V95', 'V96', 'V97', 'V98', 'V99', 'V100', 'V101', 'V102', 'V103', 'V104', 'V105', 'V106', 'V107', 'V108', 'V109', 'V110', 'V111', 'V112', 'V113', 'V114', 'V115', 'V116', 'V117', 'V118', 'V119', 'V120', 'V121', 'V122', 'V123', 'V124', 'V125', 'V126', 'V127', 'V128', 'V129', 'V130', 'V131', 'V132', 'V133', 'V134', 'V135', 'V136', 'V137', 'V138', 'V139', 'V140', 'V141', 'V142', 'V143', 'V144', 'V145', 'V146', 'V147', 'V148', 'V149', 'V150', 'V151', 'V152', 'V153', 'V154', 'V155', 'V156', 'V157', 'V158', 'V159', 'V160', 'V161', 'V162', 'V163', 'V164', 'V165', 'V166', 'V167', 'V168', 'V169', 'V170', 'V171', 'V172', 'V173', 'V174', 'V175', 'V176', 'V177', 'V178', 'V179', 'V180', 'V181', 'V182', 'V183', 'V184', 'V185', 'V186', 'V187', 'V188', 'V189', 'V190', 'V191', 'V192', 'V193', 'V194', 'V195', 'V196', 'V197', 'V198', 'V199', 'V200', 'V201', 'V202', 'V203', 'V204', 'V205', 'V206', 'V207', 'V208', 'V209', 'V210', 'V211', 'V212', 'V213', 'V214', 'V215', 'V216', 'V217', 'V218', 'V219', 'V220', 'V221', 'V222', 'V223', 'V224', 'V225', 'V226', 'V227', 'V228', 'V229', 'V230', 'V231', 'V232', 'V233', 'V234', 'V235', 'V236', 'V237', 'V238', 'V239', 'V240', 'V241', 'V242', 'V243', 'V244', 'V245', 'V246', 'V247', 'V248', 'V249', 'V250', 'V251', 'V252', 'V253', 'V254', 'V255', 'V256', 'V257', 'V258', 'V259', 'V260', 'V261', 'V262', 'V263', 'V264', 'V265', 'V266', 'V267', 'V268', 'V269', 'V270', 'V271', 'V272', 'V273', 'V274', 'V275', 'V276', 'V277', 'V278', 'V279', 'V280', 'V281', 'V282', 'V283', 'V284', 'V285', 'V286', 'V287', 'V288', 'V289', 'V290', 'V291', 'V292', 'V293', 'V294', 'V295', 'V296', 'V297', 'V298', 'V299', 'V300', 'V301', 'V302', 'V303', 'V304', 'V305', 'V306', 'V307', 'V308', 'V309', 'V310', 'V311', 'V312', 'V313', 'V314', 'V315', 'V316', 'V317', 'V318', 'V319', 'V320', 'V321', 'V322', 'V323', 'V324', 'V325', 'V326', 'V327', 'V328', 'V329', 'V330', 'V331', 'V332', 'V333', 'V334', 'V335', 'V336', 'V337', 'V338', 'V339', 'id_01', 'id_02', 'id_03', 'id_04', 'id_05', 'id_06', 'id_07', 'id_08', 'id_09', 'id_10', 'id_11', 'id_13', 'id_14', 'id_17', 'id_18', 'id_19', 'id_20', 'id_21', 'id_22', 'id_24', 'id_25', 'id_26', 'id_32']"
   ]
  },
  {
   "cell_type": "code",
   "execution_count": 35,
   "id": "187b3674",
   "metadata": {},
   "outputs": [
    {
     "name": "stdout",
     "output_type": "stream",
     "text": [
      "convert_to_int8 : [] \n",
      "\n",
      "convert_to_int16 : ['card1'] \n",
      "\n",
      "convert_to_int32 : ['TransactionID', 'TransactionDT'] \n",
      "\n",
      "convert_to_float16 : ['TransactionAmt', 'dist1', 'dist2', 'C1', 'C2', 'C3', 'C4', 'C5', 'C6', 'C7', 'C8', 'C9', 'C10', 'C11', 'C12', 'C13', 'C14', 'D1', 'D2', 'D3', 'D4', 'D5', 'D6', 'D7', 'D8', 'D9', 'D10', 'D11', 'D12', 'D13', 'D14', 'D15', 'V1', 'V2', 'V3', 'V4', 'V5', 'V6', 'V7', 'V8', 'V9', 'V10', 'V11', 'V12', 'V13', 'V14', 'V15', 'V16', 'V17', 'V18', 'V19', 'V20', 'V21', 'V22', 'V23', 'V24', 'V25', 'V26', 'V27', 'V28', 'V29', 'V30', 'V31', 'V32', 'V33', 'V34', 'V35', 'V36', 'V37', 'V38', 'V39', 'V40', 'V41', 'V42', 'V43', 'V44', 'V45', 'V46', 'V47', 'V48', 'V49', 'V50', 'V51', 'V52', 'V53', 'V54', 'V55', 'V56', 'V57', 'V58', 'V59', 'V60', 'V61', 'V62', 'V63', 'V64', 'V65', 'V66', 'V67', 'V68', 'V69', 'V70', 'V71', 'V72', 'V73', 'V74', 'V75', 'V76', 'V77', 'V78', 'V79', 'V80', 'V81', 'V82', 'V83', 'V84', 'V85', 'V86', 'V87', 'V88', 'V89', 'V90', 'V91', 'V92', 'V93', 'V94', 'V95', 'V96', 'V97', 'V98', 'V99', 'V100', 'V101', 'V102', 'V103', 'V104', 'V105', 'V106', 'V107', 'V108', 'V109', 'V110', 'V111', 'V112', 'V113', 'V114', 'V115', 'V116', 'V117', 'V118', 'V119', 'V120', 'V121', 'V122', 'V123', 'V124', 'V125', 'V129', 'V138', 'V139', 'V140', 'V141', 'V142', 'V143', 'V144', 'V145', 'V146', 'V147', 'V148', 'V149', 'V150', 'V151', 'V152', 'V153', 'V154', 'V155', 'V156', 'V157', 'V158', 'V161', 'V162', 'V163', 'V167', 'V168', 'V169', 'V170', 'V171', 'V172', 'V173', 'V174', 'V175', 'V176', 'V177', 'V178', 'V179', 'V180', 'V181', 'V182', 'V183', 'V184', 'V185', 'V186', 'V187', 'V188', 'V189', 'V190', 'V191', 'V192', 'V193', 'V194', 'V195', 'V196', 'V197', 'V198', 'V199', 'V200', 'V201', 'V205', 'V206', 'V208', 'V209', 'V210', 'V217', 'V218', 'V219', 'V220', 'V221', 'V222', 'V223', 'V224', 'V225', 'V226', 'V227', 'V228', 'V229', 'V230', 'V231', 'V232', 'V233', 'V234', 'V235', 'V236', 'V237', 'V238', 'V239', 'V240', 'V241', 'V242', 'V243', 'V244', 'V245', 'V246', 'V247', 'V248', 'V249', 'V250', 'V251', 'V252', 'V253', 'V254', 'V255', 'V256', 'V257', 'V258', 'V259', 'V260', 'V261', 'V262', 'V266', 'V267', 'V268', 'V269', 'V270', 'V271', 'V272', 'V279', 'V280', 'V281', 'V282', 'V283', 'V284', 'V285', 'V286', 'V287', 'V288', 'V289', 'V290', 'V291', 'V292', 'V293', 'V294', 'V295', 'V296', 'V297', 'V298', 'V299', 'V300', 'V301', 'V302', 'V303', 'V304', 'V305', 'V309', 'V311', 'V313', 'V314', 'V315', 'V322', 'V323', 'V324', 'V325', 'V326', 'V327', 'V328', 'V329', 'V330', 'V334', 'V335', 'V336', 'id_01', 'id_03', 'id_04', 'id_05', 'id_06', 'id_07', 'id_08', 'id_09', 'id_10', 'id_11', 'id_13', 'id_14', 'id_17', 'id_18', 'id_19', 'id_20', 'id_21', 'id_22', 'id_24', 'id_25', 'id_26', 'id_32'] \n",
      "\n",
      "convert_to_float32 : ['V126', 'V127', 'V128', 'V130', 'V131', 'V132', 'V133', 'V134', 'V135', 'V136', 'V137', 'V159', 'V160', 'V164', 'V165', 'V166', 'V202', 'V203', 'V204', 'V207', 'V211', 'V212', 'V213', 'V214', 'V215', 'V216', 'V263', 'V264', 'V265', 'V273', 'V274', 'V275', 'V276', 'V277', 'V278', 'V306', 'V307', 'V308', 'V310', 'V312', 'V316', 'V317', 'V318', 'V319', 'V320', 'V321', 'V331', 'V332', 'V333', 'V337', 'V338', 'V339', 'id_02'] \n",
      "\n"
     ]
    }
   ],
   "source": [
    "num_cols_to_shrink_test = detect_num_cols_to_shrink(num_test_cols, test)\n",
    "\n",
    "convert_to_int8 = num_cols_to_shrink_test[0]\n",
    "convert_to_int16 = num_cols_to_shrink_test[1]\n",
    "convert_to_int32 = num_cols_to_shrink_test[2]\n",
    "\n",
    "convert_to_float16 = num_cols_to_shrink_test[3]\n",
    "convert_to_float32 = num_cols_to_shrink_test[4]\n",
    "\n",
    "print(\"convert_to_int8 :\", convert_to_int8, \"\\n\")\n",
    "print(\"convert_to_int16 :\", convert_to_int16, \"\\n\")\n",
    "print(\"convert_to_int32 :\", convert_to_int32, \"\\n\")\n",
    "\n",
    "print(\"convert_to_float16 :\", convert_to_float16, \"\\n\")\n",
    "print(\"convert_to_float32 :\", convert_to_float32, \"\\n\")"
   ]
  },
  {
   "cell_type": "code",
   "execution_count": 36,
   "id": "763cb961",
   "metadata": {},
   "outputs": [
    {
     "name": "stdout",
     "output_type": "stream",
     "text": [
      "starting with converting process....\n",
      "successfully converted!\n"
     ]
    }
   ],
   "source": [
    "print(\"starting with converting process....\")\n",
    "\n",
    "for col in convert_to_int16:\n",
    "    \n",
    "    test[col] = test[col].astype('int16') \n",
    "    \n",
    "for col in convert_to_int32:\n",
    "    test[col] = test[col].astype('int32') \n",
    "\n",
    "for col in convert_to_float16:\n",
    "    test[col] = test[col].astype('float16')\n",
    "    \n",
    "for col in convert_to_float32:\n",
    "    test[col] = test[col].astype('float32')\n",
    "    \n",
    "print(\"successfully converted!\")"
   ]
  },
  {
   "cell_type": "code",
   "execution_count": 37,
   "id": "534d4bc1",
   "metadata": {},
   "outputs": [
    {
     "data": {
      "text/plain": [
       "(1097231, 434)"
      ]
     },
     "execution_count": 37,
     "metadata": {},
     "output_type": "execute_result"
    }
   ],
   "source": [
    "ntrain = train.shape[0]\n",
    "ntest = test.shape[0]\n",
    "all_data = pd.concat([train, test], axis = 0, sort = False)\n",
    "all_data.shape"
   ]
  },
  {
   "cell_type": "markdown",
   "id": "e0af4984",
   "metadata": {},
   "source": [
    "## Feature Engineering"
   ]
  },
  {
   "cell_type": "code",
   "execution_count": 38,
   "id": "c9469974",
   "metadata": {},
   "outputs": [],
   "source": [
    "def add_device_type(df, new_columns=[]):\n",
    "    df['DeviceInfo'] = df['DeviceInfo'].fillna('unknown_device').str.lower()\n",
    "    \n",
    "    df['device_name'] = df['DeviceInfo'].str.split('/', expand=True)[0]\n",
    "\n",
    "    df.loc[df['device_name'].str.contains('SM', na=False), 'device_name'] = 'Samsung'\n",
    "    df.loc[df['device_name'].str.contains('sm', na=False), 'device_name'] = 'Samsung'\n",
    "    df.loc[df['device_name'].str.contains('SAMSUNG', na=False), 'device_name'] = 'Samsung'\n",
    "    df.loc[df['device_name'].str.contains('samsung', na=False), 'device_name'] = 'Samsung'\n",
    "    df.loc[df['device_name'].str.contains('GT-', na=False), 'device_name'] = 'Samsung'\n",
    "    df.loc[df['device_name'].str.contains('Moto G', na=False), 'device_name'] = 'Motorola'\n",
    "    df.loc[df['device_name'].str.contains('Moto', na=False), 'device_name'] = 'Motorola'\n",
    "    df.loc[df['device_name'].str.contains('moto', na=False), 'device_name'] = 'Motorola'\n",
    "    df.loc[df['device_name'].str.contains('LG-', na=False), 'device_name'] = 'LG'\n",
    "    df.loc[df['device_name'].str.contains('lg-', na=False), 'device_name'] = 'LG'\n",
    "    df.loc[df['device_name'].str.contains('rv:', na=False), 'device_name'] = 'RV'\n",
    "    df.loc[df['device_name'].str.contains('HUAWEI', na=False), 'device_name'] = 'Huawei'\n",
    "    df.loc[df['device_name'].str.contains('huawei', na=False), 'device_name'] = 'Huawei'\n",
    "    df.loc[df['device_name'].str.contains('ALE-', na=False), 'device_name'] = 'Huawei'\n",
    "    df.loc[df['device_name'].str.contains('-L', na=False), 'device_name'] = 'Huawei'\n",
    "    df.loc[df['device_name'].str.contains('Blade', na=False), 'device_name'] = 'ZTE'\n",
    "    df.loc[df['device_name'].str.contains('BLADE', na=False), 'device_name'] = 'ZTE'\n",
    "    df.loc[df['device_name'].str.contains('Linux', na=False), 'device_name'] = 'Linux'\n",
    "    df.loc[df['device_name'].str.contains('XT', na=False), 'device_name'] = 'Sony'\n",
    "    df.loc[df['device_name'].str.contains('HTC', na=False), 'device_name'] = 'HTC'\n",
    "    df.loc[df['device_name'].str.contains('ASUS', na=False), 'device_name'] = 'Asus'\n",
    "    df.loc[df['device_name'].str.contains('windows', na=False), 'device_name'] = 'Windows'\n",
    "    df.loc[df['device_name'].str.contains('linux', na=False), 'device_name'] = 'Linux'\n",
    "    df.loc[df['device_name'].str.contains('unknown', na=False), 'device_name'] = 'Others'\n",
    "    df.loc[df.device_name.isin(df.device_name.value_counts()[df.device_name.value_counts() < 200].index), 'device_name'] = \"Others\"\n",
    "    \n",
    "    df['had_id'] = 1\n",
    "   \n",
    "    \n",
    "    new_columns += ['device_name']\n",
    "    return df"
   ]
  },
  {
   "cell_type": "code",
   "execution_count": 39,
   "id": "53f5e6c8",
   "metadata": {},
   "outputs": [],
   "source": [
    "def add_browser(df, new_columns=[]):\n",
    "    df[\"lastest_browser\"] = np.zeros(df.shape[0])\n",
    "    df.loc[df[\"id_31\"] == \"samsung browser 7.0\",'lastest_browser']=1\n",
    "    df.loc[df[\"id_31\"] == \"opera 53.0\",'lastest_browser']=1\n",
    "    df.loc[df[\"id_31\"] == \"mobile safari 10.0\",'lastest_browser']=1\n",
    "    df.loc[df[\"id_31\"] == \"google search application 49.0\",'lastest_browser']=1\n",
    "    df.loc[df[\"id_31\"] == \"firefox 60.0\",'lastest_browser']=1\n",
    "    df.loc[df[\"id_31\"] == \"edge 17.0\",'lastest_browser']=1\n",
    "    df.loc[df[\"id_31\"] == \"chrome 69.0\",'lastest_browser']=1\n",
    "    df.loc[df[\"id_31\"] == \"chrome 67.0 for android\",'lastest_browser']=1\n",
    "    df.loc[df[\"id_31\"] == \"chrome 63.0 for android\",'lastest_browser']=1\n",
    "    df.loc[df[\"id_31\"] == \"chrome 63.0 for ios\",'lastest_browser']=1\n",
    "    df.loc[df[\"id_31\"] == \"chrome 64.0\",'lastest_browser']=1\n",
    "    df.loc[df[\"id_31\"] == \"chrome 64.0 for android\",'lastest_browser']=1\n",
    "    df.loc[df[\"id_31\"] == \"chrome 64.0 for ios\",'lastest_browser']=1\n",
    "    df.loc[df[\"id_31\"] == \"chrome 65.0\",'lastest_browser']=1\n",
    "    df.loc[df[\"id_31\"] == \"chrome 65.0 for android\",'lastest_browser']=1\n",
    "    df.loc[df[\"id_31\"] == \"chrome 65.0 for ios\",'lastest_browser']=1\n",
    "    df.loc[df[\"id_31\"] == \"chrome 66.0\",'lastest_browser']=1\n",
    "    df.loc[df[\"id_31\"] == \"chrome 66.0 for android\",'lastest_browser']=1\n",
    "    df.loc[df[\"id_31\"] == \"chrome 66.0 for ios\",'lastest_browser']=1\n",
    "\n",
    "    new_columns += ['lastest_browser']\n",
    "    return df"
   ]
  },
  {
   "cell_type": "code",
   "execution_count": 40,
   "id": "3fb99f8d",
   "metadata": {},
   "outputs": [],
   "source": [
    "emails = {'gmail': 'google', 'att.net': 'att', 'twc.com': 'spectrum', 'scranton.edu': 'other', 'optonline.net': 'other',\n",
    "          'hotmail.co.uk': 'microsoft', 'comcast.net': 'other', 'yahoo.com.mx': 'yahoo', 'yahoo.fr': 'yahoo',\n",
    "          'yahoo.es': 'yahoo', 'charter.net': 'spectrum', 'live.com': 'microsoft', 'aim.com': 'aol', 'hotmail.de': 'microsoft',\n",
    "          'centurylink.net': 'centurylink', 'gmail.com': 'google', 'me.com': 'apple', 'earthlink.net': 'other', \n",
    "          'gmx.de': 'other', 'web.de': 'other', 'cfl.rr.com': 'other', 'hotmail.com': 'microsoft', 'protonmail.com': 'other',\n",
    "          'hotmail.fr': 'microsoft', 'windstream.net': 'other', 'outlook.es': 'microsoft', 'yahoo.co.jp': 'yahoo',\n",
    "          'yahoo.de': 'yahoo', 'servicios-ta.com': 'other', 'netzero.net': 'other', 'suddenlink.net': 'other',\n",
    "          'roadrunner.com': 'other', 'sc.rr.com': 'other', 'live.fr': 'microsoft', 'verizon.net': 'yahoo',\n",
    "          'msn.com': 'microsoft', 'q.com': 'centurylink', 'prodigy.net.mx': 'att', 'frontier.com': 'yahoo',\n",
    "          'anonymous.com': 'other', 'rocketmail.com': 'yahoo', 'sbcglobal.net': 'att', 'frontiernet.net': 'yahoo',\n",
    "          'ymail.com': 'yahoo', 'outlook.com': 'microsoft', 'mail.com': 'other', 'bellsouth.net': 'other',\n",
    "          'embarqmail.com': 'centurylink', 'cableone.net': 'other', 'hotmail.es': 'microsoft', 'mac.com': 'apple',\n",
    "          'yahoo.co.uk': 'yahoo', 'netzero.com': 'other', 'yahoo.com': 'yahoo', 'live.com.mx': 'microsoft', 'ptd.net': 'other',\n",
    "          'cox.net': 'other', 'aol.com': 'aol', 'juno.com': 'other', 'icloud.com': 'apple'}\n",
    "\n",
    "us_emails = ['gmail', 'net', 'edu']\n",
    "\n",
    "def add_domain_1(df, new_columns=[]):\n",
    "    for c in ['P_emaildomain', 'R_emaildomain']:\n",
    "        df[c + '_bin'] = df[c].map(emails)\n",
    "        df[c + '_suffix'] = df[c].map(lambda x: str(x).split('.')[-1])\n",
    "        df[c + '_suffix'] = df[c + '_suffix'].map(lambda x: x if str(x) not in us_emails else 'us')\n",
    "\n",
    "    new_columns += ['P_emaildomain_bin', 'P_emaildomain_suffix', 'R_emaildomain_bin', 'R_emaildomain_suffix']\n",
    "    return df"
   ]
  },
  {
   "cell_type": "code",
   "execution_count": 41,
   "id": "ae1df043",
   "metadata": {},
   "outputs": [],
   "source": [
    "def log_trans(df, new_columns=[]):\n",
    "    df['LogTransactionAmt'] = np.log1p(df['TransactionAmt'])\n",
    "    df['TransactionAmt_decimal'] = ((df['TransactionAmt'] - df['TransactionAmt'].astype(int)) * 1000).astype(int)\n",
    "    new_columns += ['LogTransactionAmt','TransactionAmt_decimal']\n",
    "    return df"
   ]
  },
  {
   "cell_type": "code",
   "execution_count": 42,
   "id": "cd9e6e48",
   "metadata": {},
   "outputs": [],
   "source": [
    "def add_time_features(df, new_columns=[]):\n",
    "    df['Transaction_day_of_week'] = np.floor((df['TransactionDT'] / (3600 * 24) - 1) % 7)\n",
    "    df['Transaction_hour_of_day'] = np.floor(df['TransactionDT'] / 3600) % 24\n",
    "    \n",
    "   \n",
    "    \n",
    "    new_columns += ['Transaction_day_of_week', 'Transaction_hour_of_day']\n",
    "    return df"
   ]
  },
  {
   "cell_type": "code",
   "execution_count": 43,
   "id": "41164fc0",
   "metadata": {},
   "outputs": [],
   "source": [
    "def add_new_features(df):\n",
    "    new_features = []\n",
    "    df = log_trans(df, new_features)\n",
    "    \n",
    "    df = add_time_features(df, new_features)\n",
    "\n",
    "    df = add_domain_1(df, new_features)\n",
    "   \n",
    "    df = add_browser(df, new_features)\n",
    "    df = add_device_type(df, new_features)\n",
    "\n",
    "    return df, new_features"
   ]
  },
  {
   "cell_type": "code",
   "execution_count": 44,
   "id": "073cba28",
   "metadata": {},
   "outputs": [
    {
     "name": "stdout",
     "output_type": "stream",
     "text": [
      "10\n",
      "(1097231, 445)\n"
     ]
    }
   ],
   "source": [
    "all_data, new_features = add_new_features(all_data)\n",
    "print(len(new_features))\n",
    "print(all_data.shape)"
   ]
  },
  {
   "cell_type": "code",
   "execution_count": 45,
   "id": "24ac20b1",
   "metadata": {},
   "outputs": [
    {
     "data": {
      "text/plain": [
       "['LogTransactionAmt',\n",
       " 'TransactionAmt_decimal',\n",
       " 'Transaction_day_of_week',\n",
       " 'Transaction_hour_of_day',\n",
       " 'P_emaildomain_bin',\n",
       " 'P_emaildomain_suffix',\n",
       " 'R_emaildomain_bin',\n",
       " 'R_emaildomain_suffix',\n",
       " 'lastest_browser',\n",
       " 'device_name']"
      ]
     },
     "execution_count": 45,
     "metadata": {},
     "output_type": "execute_result"
    }
   ],
   "source": [
    "new_features"
   ]
  },
  {
   "cell_type": "code",
   "execution_count": 46,
   "id": "2af77c1a",
   "metadata": {},
   "outputs": [
    {
     "data": {
      "text/html": [
       "<div>\n",
       "<style scoped>\n",
       "    .dataframe tbody tr th:only-of-type {\n",
       "        vertical-align: middle;\n",
       "    }\n",
       "\n",
       "    .dataframe tbody tr th {\n",
       "        vertical-align: top;\n",
       "    }\n",
       "\n",
       "    .dataframe thead th {\n",
       "        text-align: right;\n",
       "    }\n",
       "</style>\n",
       "<table border=\"1\" class=\"dataframe\">\n",
       "  <thead>\n",
       "    <tr style=\"text-align: right;\">\n",
       "      <th></th>\n",
       "      <th>LogTransactionAmt</th>\n",
       "      <th>TransactionAmt_decimal</th>\n",
       "      <th>Transaction_day_of_week</th>\n",
       "      <th>Transaction_hour_of_day</th>\n",
       "      <th>P_emaildomain_bin</th>\n",
       "      <th>P_emaildomain_suffix</th>\n",
       "      <th>R_emaildomain_bin</th>\n",
       "      <th>R_emaildomain_suffix</th>\n",
       "      <th>lastest_browser</th>\n",
       "      <th>device_name</th>\n",
       "    </tr>\n",
       "  </thead>\n",
       "  <tbody>\n",
       "    <tr>\n",
       "      <th>0</th>\n",
       "      <td>4.242188</td>\n",
       "      <td>500</td>\n",
       "      <td>0.0</td>\n",
       "      <td>0.0</td>\n",
       "      <td>NaN</td>\n",
       "      <td>nan</td>\n",
       "      <td>NaN</td>\n",
       "      <td>nan</td>\n",
       "      <td>0.0</td>\n",
       "      <td>Others</td>\n",
       "    </tr>\n",
       "    <tr>\n",
       "      <th>1</th>\n",
       "      <td>3.400391</td>\n",
       "      <td>0</td>\n",
       "      <td>0.0</td>\n",
       "      <td>0.0</td>\n",
       "      <td>google</td>\n",
       "      <td>com</td>\n",
       "      <td>NaN</td>\n",
       "      <td>nan</td>\n",
       "      <td>0.0</td>\n",
       "      <td>Others</td>\n",
       "    </tr>\n",
       "    <tr>\n",
       "      <th>2</th>\n",
       "      <td>4.093750</td>\n",
       "      <td>0</td>\n",
       "      <td>0.0</td>\n",
       "      <td>0.0</td>\n",
       "      <td>microsoft</td>\n",
       "      <td>com</td>\n",
       "      <td>NaN</td>\n",
       "      <td>nan</td>\n",
       "      <td>0.0</td>\n",
       "      <td>Others</td>\n",
       "    </tr>\n",
       "    <tr>\n",
       "      <th>3</th>\n",
       "      <td>3.931641</td>\n",
       "      <td>0</td>\n",
       "      <td>0.0</td>\n",
       "      <td>0.0</td>\n",
       "      <td>yahoo</td>\n",
       "      <td>com</td>\n",
       "      <td>NaN</td>\n",
       "      <td>nan</td>\n",
       "      <td>0.0</td>\n",
       "      <td>Others</td>\n",
       "    </tr>\n",
       "    <tr>\n",
       "      <th>4</th>\n",
       "      <td>3.931641</td>\n",
       "      <td>0</td>\n",
       "      <td>0.0</td>\n",
       "      <td>0.0</td>\n",
       "      <td>google</td>\n",
       "      <td>com</td>\n",
       "      <td>NaN</td>\n",
       "      <td>nan</td>\n",
       "      <td>0.0</td>\n",
       "      <td>Samsung</td>\n",
       "    </tr>\n",
       "  </tbody>\n",
       "</table>\n",
       "</div>"
      ],
      "text/plain": [
       "   LogTransactionAmt  TransactionAmt_decimal  Transaction_day_of_week  \\\n",
       "0           4.242188                     500                      0.0   \n",
       "1           3.400391                       0                      0.0   \n",
       "2           4.093750                       0                      0.0   \n",
       "3           3.931641                       0                      0.0   \n",
       "4           3.931641                       0                      0.0   \n",
       "\n",
       "   Transaction_hour_of_day P_emaildomain_bin P_emaildomain_suffix  \\\n",
       "0                      0.0               NaN                  nan   \n",
       "1                      0.0            google                  com   \n",
       "2                      0.0         microsoft                  com   \n",
       "3                      0.0             yahoo                  com   \n",
       "4                      0.0            google                  com   \n",
       "\n",
       "  R_emaildomain_bin R_emaildomain_suffix  lastest_browser device_name  \n",
       "0               NaN                  nan              0.0      Others  \n",
       "1               NaN                  nan              0.0      Others  \n",
       "2               NaN                  nan              0.0      Others  \n",
       "3               NaN                  nan              0.0      Others  \n",
       "4               NaN                  nan              0.0     Samsung  "
      ]
     },
     "execution_count": 46,
     "metadata": {},
     "output_type": "execute_result"
    }
   ],
   "source": [
    "all_data[new_features].head()"
   ]
  },
  {
   "cell_type": "code",
   "execution_count": 47,
   "id": "e5fe6006",
   "metadata": {},
   "outputs": [
    {
     "data": {
      "text/html": [
       "<div>\n",
       "<style scoped>\n",
       "    .dataframe tbody tr th:only-of-type {\n",
       "        vertical-align: middle;\n",
       "    }\n",
       "\n",
       "    .dataframe tbody tr th {\n",
       "        vertical-align: top;\n",
       "    }\n",
       "\n",
       "    .dataframe thead th {\n",
       "        text-align: right;\n",
       "    }\n",
       "</style>\n",
       "<table border=\"1\" class=\"dataframe\">\n",
       "  <thead>\n",
       "    <tr style=\"text-align: right;\">\n",
       "      <th></th>\n",
       "      <th>LogTransactionAmt</th>\n",
       "      <th>TransactionAmt_decimal</th>\n",
       "      <th>Transaction_day_of_week</th>\n",
       "      <th>Transaction_hour_of_day</th>\n",
       "      <th>P_emaildomain_bin</th>\n",
       "      <th>P_emaildomain_suffix</th>\n",
       "      <th>R_emaildomain_bin</th>\n",
       "      <th>R_emaildomain_suffix</th>\n",
       "      <th>lastest_browser</th>\n",
       "      <th>device_name</th>\n",
       "    </tr>\n",
       "  </thead>\n",
       "  <tbody>\n",
       "    <tr>\n",
       "      <th>total</th>\n",
       "      <td>0.0</td>\n",
       "      <td>0.0</td>\n",
       "      <td>0.0</td>\n",
       "      <td>0.0</td>\n",
       "      <td>163648.000000</td>\n",
       "      <td>0.0</td>\n",
       "      <td>824070.000000</td>\n",
       "      <td>0.0</td>\n",
       "      <td>0.0</td>\n",
       "      <td>0.0</td>\n",
       "    </tr>\n",
       "    <tr>\n",
       "      <th>precent</th>\n",
       "      <td>0.0</td>\n",
       "      <td>0.0</td>\n",
       "      <td>0.0</td>\n",
       "      <td>0.0</td>\n",
       "      <td>0.149146</td>\n",
       "      <td>0.0</td>\n",
       "      <td>0.751045</td>\n",
       "      <td>0.0</td>\n",
       "      <td>0.0</td>\n",
       "      <td>0.0</td>\n",
       "    </tr>\n",
       "  </tbody>\n",
       "</table>\n",
       "</div>"
      ],
      "text/plain": [
       "         LogTransactionAmt  TransactionAmt_decimal  Transaction_day_of_week  \\\n",
       "total                  0.0                     0.0                      0.0   \n",
       "precent                0.0                     0.0                      0.0   \n",
       "\n",
       "         Transaction_hour_of_day  P_emaildomain_bin  P_emaildomain_suffix  \\\n",
       "total                        0.0      163648.000000                   0.0   \n",
       "precent                      0.0           0.149146                   0.0   \n",
       "\n",
       "         R_emaildomain_bin  R_emaildomain_suffix  lastest_browser  device_name  \n",
       "total        824070.000000                   0.0              0.0          0.0  \n",
       "precent           0.751045                   0.0              0.0          0.0  "
      ]
     },
     "execution_count": 47,
     "metadata": {},
     "output_type": "execute_result"
    }
   ],
   "source": [
    "missing_data_new = getNulls(all_data[new_features])\n",
    "missing_data_new.head(all_data[new_features].shape[1]).T"
   ]
  },
  {
   "cell_type": "code",
   "execution_count": 48,
   "id": "d7f7d5db",
   "metadata": {},
   "outputs": [],
   "source": [
    "new_data_cols = new_features\n",
    "\n",
    "for i in new_data_cols:\n",
    "    \n",
    "    if all_data[i].dtype == 'object':\n",
    "        \n",
    "        all_data[i] = all_data[i].fillna('Unknown')"
   ]
  },
  {
   "cell_type": "code",
   "execution_count": 49,
   "id": "29186479",
   "metadata": {},
   "outputs": [],
   "source": [
    "all_data.P_emaildomain_suffix = np.where(all_data.P_emaildomain_suffix == 'nan','Unknown',all_data.P_emaildomain_suffix)\n",
    "all_data.R_emaildomain_suffix = np.where(all_data.R_emaildomain_suffix == 'nan','Unknown',all_data.R_emaildomain_suffix)\n"
   ]
  },
  {
   "cell_type": "code",
   "execution_count": 50,
   "id": "4194cd85",
   "metadata": {},
   "outputs": [],
   "source": [
    "all_data.drop(['TransactionAmt','P_emaildomain','R_emaildomain','id_31','DeviceInfo','TransactionDT'], axis = 1, inplace = True)"
   ]
  },
  {
   "cell_type": "code",
   "execution_count": 51,
   "id": "574ccf8c",
   "metadata": {},
   "outputs": [],
   "source": [
    "train = all_data[ : ntrain]\n",
    "test = all_data[ntrain : ]"
   ]
  },
  {
   "cell_type": "code",
   "execution_count": 52,
   "id": "742086e4",
   "metadata": {},
   "outputs": [
    {
     "data": {
      "text/html": [
       "<div>\n",
       "<style scoped>\n",
       "    .dataframe tbody tr th:only-of-type {\n",
       "        vertical-align: middle;\n",
       "    }\n",
       "\n",
       "    .dataframe tbody tr th {\n",
       "        vertical-align: top;\n",
       "    }\n",
       "\n",
       "    .dataframe thead th {\n",
       "        text-align: right;\n",
       "    }\n",
       "</style>\n",
       "<table border=\"1\" class=\"dataframe\">\n",
       "  <thead>\n",
       "    <tr style=\"text-align: right;\">\n",
       "      <th></th>\n",
       "      <th>TransactionID</th>\n",
       "      <th>isFraud</th>\n",
       "      <th>ProductCD</th>\n",
       "      <th>card1</th>\n",
       "      <th>card2</th>\n",
       "      <th>card3</th>\n",
       "      <th>card4</th>\n",
       "      <th>card5</th>\n",
       "      <th>card6</th>\n",
       "      <th>addr1</th>\n",
       "      <th>...</th>\n",
       "      <th>TransactionAmt_decimal</th>\n",
       "      <th>Transaction_day_of_week</th>\n",
       "      <th>Transaction_hour_of_day</th>\n",
       "      <th>P_emaildomain_bin</th>\n",
       "      <th>P_emaildomain_suffix</th>\n",
       "      <th>R_emaildomain_bin</th>\n",
       "      <th>R_emaildomain_suffix</th>\n",
       "      <th>lastest_browser</th>\n",
       "      <th>device_name</th>\n",
       "      <th>had_id</th>\n",
       "    </tr>\n",
       "  </thead>\n",
       "  <tbody>\n",
       "    <tr>\n",
       "      <th>total</th>\n",
       "      <td>0.0</td>\n",
       "      <td>0.0</td>\n",
       "      <td>0.0</td>\n",
       "      <td>0.0</td>\n",
       "      <td>8933.000000</td>\n",
       "      <td>1565.00000</td>\n",
       "      <td>1577.00000</td>\n",
       "      <td>4259.000000</td>\n",
       "      <td>1571.00000</td>\n",
       "      <td>65706.000000</td>\n",
       "      <td>...</td>\n",
       "      <td>0.0</td>\n",
       "      <td>0.0</td>\n",
       "      <td>0.0</td>\n",
       "      <td>0.0</td>\n",
       "      <td>0.0</td>\n",
       "      <td>0.0</td>\n",
       "      <td>0.0</td>\n",
       "      <td>0.0</td>\n",
       "      <td>0.0</td>\n",
       "      <td>0.0</td>\n",
       "    </tr>\n",
       "    <tr>\n",
       "      <th>precent</th>\n",
       "      <td>0.0</td>\n",
       "      <td>0.0</td>\n",
       "      <td>0.0</td>\n",
       "      <td>0.0</td>\n",
       "      <td>0.015127</td>\n",
       "      <td>0.00265</td>\n",
       "      <td>0.00267</td>\n",
       "      <td>0.007212</td>\n",
       "      <td>0.00266</td>\n",
       "      <td>0.111264</td>\n",
       "      <td>...</td>\n",
       "      <td>0.0</td>\n",
       "      <td>0.0</td>\n",
       "      <td>0.0</td>\n",
       "      <td>0.0</td>\n",
       "      <td>0.0</td>\n",
       "      <td>0.0</td>\n",
       "      <td>0.0</td>\n",
       "      <td>0.0</td>\n",
       "      <td>0.0</td>\n",
       "      <td>0.0</td>\n",
       "    </tr>\n",
       "  </tbody>\n",
       "</table>\n",
       "<p>2 rows × 439 columns</p>\n",
       "</div>"
      ],
      "text/plain": [
       "         TransactionID  isFraud  ProductCD  card1        card2       card3  \\\n",
       "total              0.0      0.0        0.0    0.0  8933.000000  1565.00000   \n",
       "precent            0.0      0.0        0.0    0.0     0.015127     0.00265   \n",
       "\n",
       "              card4        card5       card6         addr1  ...  \\\n",
       "total    1577.00000  4259.000000  1571.00000  65706.000000  ...   \n",
       "precent     0.00267     0.007212     0.00266      0.111264  ...   \n",
       "\n",
       "         TransactionAmt_decimal  Transaction_day_of_week  \\\n",
       "total                       0.0                      0.0   \n",
       "precent                     0.0                      0.0   \n",
       "\n",
       "         Transaction_hour_of_day  P_emaildomain_bin  P_emaildomain_suffix  \\\n",
       "total                        0.0                0.0                   0.0   \n",
       "precent                      0.0                0.0                   0.0   \n",
       "\n",
       "         R_emaildomain_bin  R_emaildomain_suffix  lastest_browser  \\\n",
       "total                  0.0                   0.0              0.0   \n",
       "precent                0.0                   0.0              0.0   \n",
       "\n",
       "         device_name  had_id  \n",
       "total            0.0     0.0  \n",
       "precent          0.0     0.0  \n",
       "\n",
       "[2 rows x 439 columns]"
      ]
     },
     "execution_count": 52,
     "metadata": {},
     "output_type": "execute_result"
    }
   ],
   "source": [
    "missing_data_train = getNulls(train)\n",
    "missing_data_train.head(train.shape[1]).T"
   ]
  },
  {
   "cell_type": "code",
   "execution_count": 53,
   "id": "82ee4363",
   "metadata": {},
   "outputs": [],
   "source": [
    "sel_cols = missing_data_train[missing_data_train['total'] > 200000].index"
   ]
  },
  {
   "cell_type": "code",
   "execution_count": 54,
   "id": "f14ded13",
   "metadata": {},
   "outputs": [
    {
     "name": "stderr",
     "output_type": "stream",
     "text": [
      "C:\\Users\\Admin\\anaconda3\\lib\\site-packages\\pandas\\core\\frame.py:4308: SettingWithCopyWarning: \n",
      "A value is trying to be set on a copy of a slice from a DataFrame\n",
      "\n",
      "See the caveats in the documentation: https://pandas.pydata.org/pandas-docs/stable/user_guide/indexing.html#returning-a-view-versus-a-copy\n",
      "  return super().drop(\n"
     ]
    }
   ],
   "source": [
    "train.drop(sel_cols, axis = 1, inplace = True)\n",
    "test.drop(sel_cols, axis = 1, inplace = True)"
   ]
  },
  {
   "cell_type": "code",
   "execution_count": 55,
   "id": "9c9dd0f1",
   "metadata": {},
   "outputs": [
    {
     "data": {
      "text/html": [
       "<div>\n",
       "<style scoped>\n",
       "    .dataframe tbody tr th:only-of-type {\n",
       "        vertical-align: middle;\n",
       "    }\n",
       "\n",
       "    .dataframe tbody tr th {\n",
       "        vertical-align: top;\n",
       "    }\n",
       "\n",
       "    .dataframe thead th {\n",
       "        text-align: right;\n",
       "    }\n",
       "</style>\n",
       "<table border=\"1\" class=\"dataframe\">\n",
       "  <thead>\n",
       "    <tr style=\"text-align: right;\">\n",
       "      <th></th>\n",
       "      <th>TransactionID</th>\n",
       "      <th>isFraud</th>\n",
       "      <th>ProductCD</th>\n",
       "      <th>card1</th>\n",
       "      <th>card2</th>\n",
       "      <th>card3</th>\n",
       "      <th>card4</th>\n",
       "      <th>card5</th>\n",
       "      <th>card6</th>\n",
       "      <th>addr1</th>\n",
       "      <th>...</th>\n",
       "      <th>TransactionAmt_decimal</th>\n",
       "      <th>Transaction_day_of_week</th>\n",
       "      <th>Transaction_hour_of_day</th>\n",
       "      <th>P_emaildomain_bin</th>\n",
       "      <th>P_emaildomain_suffix</th>\n",
       "      <th>R_emaildomain_bin</th>\n",
       "      <th>R_emaildomain_suffix</th>\n",
       "      <th>lastest_browser</th>\n",
       "      <th>device_name</th>\n",
       "      <th>had_id</th>\n",
       "    </tr>\n",
       "  </thead>\n",
       "  <tbody>\n",
       "    <tr>\n",
       "      <th>total</th>\n",
       "      <td>0.0</td>\n",
       "      <td>0.0</td>\n",
       "      <td>0.0</td>\n",
       "      <td>0.0</td>\n",
       "      <td>8933.000000</td>\n",
       "      <td>1565.00000</td>\n",
       "      <td>1577.00000</td>\n",
       "      <td>4259.000000</td>\n",
       "      <td>1571.00000</td>\n",
       "      <td>65706.000000</td>\n",
       "      <td>...</td>\n",
       "      <td>0.0</td>\n",
       "      <td>0.0</td>\n",
       "      <td>0.0</td>\n",
       "      <td>0.0</td>\n",
       "      <td>0.0</td>\n",
       "      <td>0.0</td>\n",
       "      <td>0.0</td>\n",
       "      <td>0.0</td>\n",
       "      <td>0.0</td>\n",
       "      <td>0.0</td>\n",
       "    </tr>\n",
       "    <tr>\n",
       "      <th>precent</th>\n",
       "      <td>0.0</td>\n",
       "      <td>0.0</td>\n",
       "      <td>0.0</td>\n",
       "      <td>0.0</td>\n",
       "      <td>0.015127</td>\n",
       "      <td>0.00265</td>\n",
       "      <td>0.00267</td>\n",
       "      <td>0.007212</td>\n",
       "      <td>0.00266</td>\n",
       "      <td>0.111264</td>\n",
       "      <td>...</td>\n",
       "      <td>0.0</td>\n",
       "      <td>0.0</td>\n",
       "      <td>0.0</td>\n",
       "      <td>0.0</td>\n",
       "      <td>0.0</td>\n",
       "      <td>0.0</td>\n",
       "      <td>0.0</td>\n",
       "      <td>0.0</td>\n",
       "      <td>0.0</td>\n",
       "      <td>0.0</td>\n",
       "    </tr>\n",
       "  </tbody>\n",
       "</table>\n",
       "<p>2 rows × 210 columns</p>\n",
       "</div>"
      ],
      "text/plain": [
       "         TransactionID  isFraud  ProductCD  card1        card2       card3  \\\n",
       "total              0.0      0.0        0.0    0.0  8933.000000  1565.00000   \n",
       "precent            0.0      0.0        0.0    0.0     0.015127     0.00265   \n",
       "\n",
       "              card4        card5       card6         addr1  ...  \\\n",
       "total    1577.00000  4259.000000  1571.00000  65706.000000  ...   \n",
       "precent     0.00267     0.007212     0.00266      0.111264  ...   \n",
       "\n",
       "         TransactionAmt_decimal  Transaction_day_of_week  \\\n",
       "total                       0.0                      0.0   \n",
       "precent                     0.0                      0.0   \n",
       "\n",
       "         Transaction_hour_of_day  P_emaildomain_bin  P_emaildomain_suffix  \\\n",
       "total                        0.0                0.0                   0.0   \n",
       "precent                      0.0                0.0                   0.0   \n",
       "\n",
       "         R_emaildomain_bin  R_emaildomain_suffix  lastest_browser  \\\n",
       "total                  0.0                   0.0              0.0   \n",
       "precent                0.0                   0.0              0.0   \n",
       "\n",
       "         device_name  had_id  \n",
       "total            0.0     0.0  \n",
       "precent          0.0     0.0  \n",
       "\n",
       "[2 rows x 210 columns]"
      ]
     },
     "execution_count": 55,
     "metadata": {},
     "output_type": "execute_result"
    }
   ],
   "source": [
    "missing_data_train = getNulls(train)\n",
    "missing_data_train.head(train.shape[1]).T"
   ]
  },
  {
   "cell_type": "code",
   "execution_count": 56,
   "id": "6a731876",
   "metadata": {},
   "outputs": [
    {
     "data": {
      "text/html": [
       "<div>\n",
       "<style scoped>\n",
       "    .dataframe tbody tr th:only-of-type {\n",
       "        vertical-align: middle;\n",
       "    }\n",
       "\n",
       "    .dataframe tbody tr th {\n",
       "        vertical-align: top;\n",
       "    }\n",
       "\n",
       "    .dataframe thead th {\n",
       "        text-align: right;\n",
       "    }\n",
       "</style>\n",
       "<table border=\"1\" class=\"dataframe\">\n",
       "  <thead>\n",
       "    <tr style=\"text-align: right;\">\n",
       "      <th></th>\n",
       "      <th>TransactionID</th>\n",
       "      <th>isFraud</th>\n",
       "      <th>ProductCD</th>\n",
       "      <th>card1</th>\n",
       "      <th>card2</th>\n",
       "      <th>card3</th>\n",
       "      <th>card4</th>\n",
       "      <th>card5</th>\n",
       "      <th>card6</th>\n",
       "      <th>addr1</th>\n",
       "      <th>...</th>\n",
       "      <th>TransactionAmt_decimal</th>\n",
       "      <th>Transaction_day_of_week</th>\n",
       "      <th>Transaction_hour_of_day</th>\n",
       "      <th>P_emaildomain_bin</th>\n",
       "      <th>P_emaildomain_suffix</th>\n",
       "      <th>R_emaildomain_bin</th>\n",
       "      <th>R_emaildomain_suffix</th>\n",
       "      <th>lastest_browser</th>\n",
       "      <th>device_name</th>\n",
       "      <th>had_id</th>\n",
       "    </tr>\n",
       "  </thead>\n",
       "  <tbody>\n",
       "    <tr>\n",
       "      <th>total</th>\n",
       "      <td>0.0</td>\n",
       "      <td>506691.0</td>\n",
       "      <td>0.0</td>\n",
       "      <td>0.0</td>\n",
       "      <td>8654.000000</td>\n",
       "      <td>3002.000000</td>\n",
       "      <td>3086.00000</td>\n",
       "      <td>4547.000000</td>\n",
       "      <td>3007.000000</td>\n",
       "      <td>65609.000000</td>\n",
       "      <td>...</td>\n",
       "      <td>0.0</td>\n",
       "      <td>0.0</td>\n",
       "      <td>0.0</td>\n",
       "      <td>0.0</td>\n",
       "      <td>0.0</td>\n",
       "      <td>0.0</td>\n",
       "      <td>0.0</td>\n",
       "      <td>0.0</td>\n",
       "      <td>0.0</td>\n",
       "      <td>0.0</td>\n",
       "    </tr>\n",
       "    <tr>\n",
       "      <th>precent</th>\n",
       "      <td>0.0</td>\n",
       "      <td>1.0</td>\n",
       "      <td>0.0</td>\n",
       "      <td>0.0</td>\n",
       "      <td>0.017079</td>\n",
       "      <td>0.005925</td>\n",
       "      <td>0.00609</td>\n",
       "      <td>0.008974</td>\n",
       "      <td>0.005935</td>\n",
       "      <td>0.129485</td>\n",
       "      <td>...</td>\n",
       "      <td>0.0</td>\n",
       "      <td>0.0</td>\n",
       "      <td>0.0</td>\n",
       "      <td>0.0</td>\n",
       "      <td>0.0</td>\n",
       "      <td>0.0</td>\n",
       "      <td>0.0</td>\n",
       "      <td>0.0</td>\n",
       "      <td>0.0</td>\n",
       "      <td>0.0</td>\n",
       "    </tr>\n",
       "  </tbody>\n",
       "</table>\n",
       "<p>2 rows × 210 columns</p>\n",
       "</div>"
      ],
      "text/plain": [
       "         TransactionID   isFraud  ProductCD  card1        card2        card3  \\\n",
       "total              0.0  506691.0        0.0    0.0  8654.000000  3002.000000   \n",
       "precent            0.0       1.0        0.0    0.0     0.017079     0.005925   \n",
       "\n",
       "              card4        card5        card6         addr1  ...  \\\n",
       "total    3086.00000  4547.000000  3007.000000  65609.000000  ...   \n",
       "precent     0.00609     0.008974     0.005935      0.129485  ...   \n",
       "\n",
       "         TransactionAmt_decimal  Transaction_day_of_week  \\\n",
       "total                       0.0                      0.0   \n",
       "precent                     0.0                      0.0   \n",
       "\n",
       "         Transaction_hour_of_day  P_emaildomain_bin  P_emaildomain_suffix  \\\n",
       "total                        0.0                0.0                   0.0   \n",
       "precent                      0.0                0.0                   0.0   \n",
       "\n",
       "         R_emaildomain_bin  R_emaildomain_suffix  lastest_browser  \\\n",
       "total                  0.0                   0.0              0.0   \n",
       "precent                0.0                   0.0              0.0   \n",
       "\n",
       "         device_name  had_id  \n",
       "total            0.0     0.0  \n",
       "precent          0.0     0.0  \n",
       "\n",
       "[2 rows x 210 columns]"
      ]
     },
     "execution_count": 56,
     "metadata": {},
     "output_type": "execute_result"
    }
   ],
   "source": [
    "missing_data_test = getNulls(test)\n",
    "missing_data_test.head(test.shape[1]).T"
   ]
  },
  {
   "cell_type": "code",
   "execution_count": 57,
   "id": "c30e1931",
   "metadata": {},
   "outputs": [
    {
     "data": {
      "text/plain": [
       "(1097231, 210)"
      ]
     },
     "execution_count": 57,
     "metadata": {},
     "output_type": "execute_result"
    }
   ],
   "source": [
    "ntrain = train.shape[0]\n",
    "ntest = test.shape[0]\n",
    "all_data = pd.concat([train, test], axis = 0, sort = False)\n",
    "all_data.shape"
   ]
  },
  {
   "cell_type": "code",
   "execution_count": 58,
   "id": "fc1b1f2a",
   "metadata": {},
   "outputs": [],
   "source": [
    "all_data_cols = all_data.columns\n",
    "\n",
    "for i in all_data_cols:\n",
    "    \n",
    "    if all_data[i].dtype == 'object':\n",
    "        \n",
    "        all_data[i] = all_data[i].fillna(all_data[i].mode()[0])"
   ]
  },
  {
   "cell_type": "code",
   "execution_count": 59,
   "id": "5537a3ae",
   "metadata": {},
   "outputs": [
    {
     "data": {
      "text/html": [
       "<div>\n",
       "<style scoped>\n",
       "    .dataframe tbody tr th:only-of-type {\n",
       "        vertical-align: middle;\n",
       "    }\n",
       "\n",
       "    .dataframe tbody tr th {\n",
       "        vertical-align: top;\n",
       "    }\n",
       "\n",
       "    .dataframe thead th {\n",
       "        text-align: right;\n",
       "    }\n",
       "</style>\n",
       "<table border=\"1\" class=\"dataframe\">\n",
       "  <thead>\n",
       "    <tr style=\"text-align: right;\">\n",
       "      <th></th>\n",
       "      <th>TransactionID</th>\n",
       "      <th>isFraud</th>\n",
       "    </tr>\n",
       "  </thead>\n",
       "  <tbody>\n",
       "    <tr>\n",
       "      <th>total</th>\n",
       "      <td>0.0</td>\n",
       "      <td>506691.000000</td>\n",
       "    </tr>\n",
       "    <tr>\n",
       "      <th>precent</th>\n",
       "      <td>0.0</td>\n",
       "      <td>0.461791</td>\n",
       "    </tr>\n",
       "  </tbody>\n",
       "</table>\n",
       "</div>"
      ],
      "text/plain": [
       "         TransactionID        isFraud\n",
       "total              0.0  506691.000000\n",
       "precent            0.0       0.461791"
      ]
     },
     "execution_count": 59,
     "metadata": {},
     "output_type": "execute_result"
    }
   ],
   "source": [
    "for i in all_data_cols:\n",
    "    \n",
    "    if (i.startswith(\"C\") or (i.startswith(\"V\"))) and all_data[i].isnull().sum() > 0:\n",
    "        \n",
    "        all_data[i] = all_data[i].fillna(all_data[i].mode()[0])\n",
    "        \n",
    "missing_data = getNulls(all_data)\n",
    "missing_data.head(missing_data.shape[1]).T"
   ]
  },
  {
   "cell_type": "code",
   "execution_count": 60,
   "id": "fed09fb6",
   "metadata": {},
   "outputs": [],
   "source": [
    "all_data['card2'] = all_data['card2'].fillna(all_data['card2'].mode()[0])\n",
    "all_data['card3'] = all_data['card3'].fillna(all_data['card3'].mode()[0])\n",
    "all_data['card5'] = all_data['card5'].fillna(all_data['card5'].mode()[0])"
   ]
  },
  {
   "cell_type": "code",
   "execution_count": 61,
   "id": "89b9dd94",
   "metadata": {},
   "outputs": [],
   "source": [
    "all_data['D1'] = all_data['D1'].fillna(all_data['D1'].mode()[0])\n",
    "all_data['D4'] = all_data['D4'].fillna(all_data['D4'].mode()[0])\n",
    "all_data['D10'] = all_data['D10'].fillna(all_data['D10'].mode()[0])\n",
    "all_data['D15'] = all_data['D15'].fillna(all_data['D15'].mode()[0])"
   ]
  },
  {
   "cell_type": "code",
   "execution_count": 62,
   "id": "1ba0acee",
   "metadata": {},
   "outputs": [],
   "source": [
    "all_data['addr1'] = all_data['addr1'].fillna(all_data['addr1'].mode()[0])\n",
    "all_data['addr2'] = all_data['addr2'].fillna(all_data['addr2'].mode()[0])"
   ]
  },
  {
   "cell_type": "code",
   "execution_count": 63,
   "id": "a7a1a635",
   "metadata": {},
   "outputs": [
    {
     "data": {
      "text/html": [
       "<div>\n",
       "<style scoped>\n",
       "    .dataframe tbody tr th:only-of-type {\n",
       "        vertical-align: middle;\n",
       "    }\n",
       "\n",
       "    .dataframe tbody tr th {\n",
       "        vertical-align: top;\n",
       "    }\n",
       "\n",
       "    .dataframe thead th {\n",
       "        text-align: right;\n",
       "    }\n",
       "</style>\n",
       "<table border=\"1\" class=\"dataframe\">\n",
       "  <thead>\n",
       "    <tr style=\"text-align: right;\">\n",
       "      <th></th>\n",
       "      <th>TransactionID</th>\n",
       "      <th>isFraud</th>\n",
       "      <th>ProductCD</th>\n",
       "      <th>card1</th>\n",
       "      <th>card2</th>\n",
       "      <th>card3</th>\n",
       "      <th>card4</th>\n",
       "      <th>card5</th>\n",
       "      <th>card6</th>\n",
       "      <th>addr1</th>\n",
       "      <th>...</th>\n",
       "      <th>TransactionAmt_decimal</th>\n",
       "      <th>Transaction_day_of_week</th>\n",
       "      <th>Transaction_hour_of_day</th>\n",
       "      <th>P_emaildomain_bin</th>\n",
       "      <th>P_emaildomain_suffix</th>\n",
       "      <th>R_emaildomain_bin</th>\n",
       "      <th>R_emaildomain_suffix</th>\n",
       "      <th>lastest_browser</th>\n",
       "      <th>device_name</th>\n",
       "      <th>had_id</th>\n",
       "    </tr>\n",
       "  </thead>\n",
       "  <tbody>\n",
       "    <tr>\n",
       "      <th>total</th>\n",
       "      <td>0.0</td>\n",
       "      <td>506691.000000</td>\n",
       "      <td>0.0</td>\n",
       "      <td>0.0</td>\n",
       "      <td>0.0</td>\n",
       "      <td>0.0</td>\n",
       "      <td>0.0</td>\n",
       "      <td>0.0</td>\n",
       "      <td>0.0</td>\n",
       "      <td>0.0</td>\n",
       "      <td>...</td>\n",
       "      <td>0.0</td>\n",
       "      <td>0.0</td>\n",
       "      <td>0.0</td>\n",
       "      <td>0.0</td>\n",
       "      <td>0.0</td>\n",
       "      <td>0.0</td>\n",
       "      <td>0.0</td>\n",
       "      <td>0.0</td>\n",
       "      <td>0.0</td>\n",
       "      <td>0.0</td>\n",
       "    </tr>\n",
       "    <tr>\n",
       "      <th>precent</th>\n",
       "      <td>0.0</td>\n",
       "      <td>0.461791</td>\n",
       "      <td>0.0</td>\n",
       "      <td>0.0</td>\n",
       "      <td>0.0</td>\n",
       "      <td>0.0</td>\n",
       "      <td>0.0</td>\n",
       "      <td>0.0</td>\n",
       "      <td>0.0</td>\n",
       "      <td>0.0</td>\n",
       "      <td>...</td>\n",
       "      <td>0.0</td>\n",
       "      <td>0.0</td>\n",
       "      <td>0.0</td>\n",
       "      <td>0.0</td>\n",
       "      <td>0.0</td>\n",
       "      <td>0.0</td>\n",
       "      <td>0.0</td>\n",
       "      <td>0.0</td>\n",
       "      <td>0.0</td>\n",
       "      <td>0.0</td>\n",
       "    </tr>\n",
       "  </tbody>\n",
       "</table>\n",
       "<p>2 rows × 210 columns</p>\n",
       "</div>"
      ],
      "text/plain": [
       "         TransactionID        isFraud  ProductCD  card1  card2  card3  card4  \\\n",
       "total              0.0  506691.000000        0.0    0.0    0.0    0.0    0.0   \n",
       "precent            0.0       0.461791        0.0    0.0    0.0    0.0    0.0   \n",
       "\n",
       "         card5  card6  addr1  ...  TransactionAmt_decimal  \\\n",
       "total      0.0    0.0    0.0  ...                     0.0   \n",
       "precent    0.0    0.0    0.0  ...                     0.0   \n",
       "\n",
       "         Transaction_day_of_week  Transaction_hour_of_day  P_emaildomain_bin  \\\n",
       "total                        0.0                      0.0                0.0   \n",
       "precent                      0.0                      0.0                0.0   \n",
       "\n",
       "         P_emaildomain_suffix  R_emaildomain_bin  R_emaildomain_suffix  \\\n",
       "total                     0.0                0.0                   0.0   \n",
       "precent                   0.0                0.0                   0.0   \n",
       "\n",
       "         lastest_browser  device_name  had_id  \n",
       "total                0.0          0.0     0.0  \n",
       "precent              0.0          0.0     0.0  \n",
       "\n",
       "[2 rows x 210 columns]"
      ]
     },
     "execution_count": 63,
     "metadata": {},
     "output_type": "execute_result"
    }
   ],
   "source": [
    "missing_data = getNulls(all_data)\n",
    "missing_data.head(all_data.shape[1]).T"
   ]
  },
  {
   "cell_type": "code",
   "execution_count": 64,
   "id": "66aa3ec7",
   "metadata": {},
   "outputs": [
    {
     "name": "stdout",
     "output_type": "stream",
     "text": [
      "(1097231, 271)\n"
     ]
    },
    {
     "data": {
      "text/html": [
       "<div>\n",
       "<style scoped>\n",
       "    .dataframe tbody tr th:only-of-type {\n",
       "        vertical-align: middle;\n",
       "    }\n",
       "\n",
       "    .dataframe tbody tr th {\n",
       "        vertical-align: top;\n",
       "    }\n",
       "\n",
       "    .dataframe thead th {\n",
       "        text-align: right;\n",
       "    }\n",
       "</style>\n",
       "<table border=\"1\" class=\"dataframe\">\n",
       "  <thead>\n",
       "    <tr style=\"text-align: right;\">\n",
       "      <th></th>\n",
       "      <th>TransactionID</th>\n",
       "      <th>isFraud</th>\n",
       "      <th>card1</th>\n",
       "      <th>card2</th>\n",
       "      <th>card3</th>\n",
       "      <th>card5</th>\n",
       "      <th>addr1</th>\n",
       "      <th>addr2</th>\n",
       "      <th>C1</th>\n",
       "      <th>C2</th>\n",
       "      <th>...</th>\n",
       "      <th>device_name_Windows</th>\n",
       "      <th>device_name_ale-l23 build</th>\n",
       "      <th>device_name_ane-lx3</th>\n",
       "      <th>device_name_ane-lx3 build</th>\n",
       "      <th>device_name_cam-l03 build</th>\n",
       "      <th>device_name_ios device</th>\n",
       "      <th>device_name_macos</th>\n",
       "      <th>device_name_pra-lx3 build</th>\n",
       "      <th>device_name_rne-l03 build</th>\n",
       "      <th>device_name_trident</th>\n",
       "    </tr>\n",
       "  </thead>\n",
       "  <tbody>\n",
       "    <tr>\n",
       "      <th>0</th>\n",
       "      <td>2987000</td>\n",
       "      <td>0.0</td>\n",
       "      <td>13926</td>\n",
       "      <td>321.0</td>\n",
       "      <td>150.0</td>\n",
       "      <td>142.0</td>\n",
       "      <td>315.0</td>\n",
       "      <td>87.0</td>\n",
       "      <td>1.0</td>\n",
       "      <td>1.0</td>\n",
       "      <td>...</td>\n",
       "      <td>0</td>\n",
       "      <td>0</td>\n",
       "      <td>0</td>\n",
       "      <td>0</td>\n",
       "      <td>0</td>\n",
       "      <td>0</td>\n",
       "      <td>0</td>\n",
       "      <td>0</td>\n",
       "      <td>0</td>\n",
       "      <td>0</td>\n",
       "    </tr>\n",
       "    <tr>\n",
       "      <th>1</th>\n",
       "      <td>2987001</td>\n",
       "      <td>0.0</td>\n",
       "      <td>2755</td>\n",
       "      <td>404.0</td>\n",
       "      <td>150.0</td>\n",
       "      <td>102.0</td>\n",
       "      <td>325.0</td>\n",
       "      <td>87.0</td>\n",
       "      <td>1.0</td>\n",
       "      <td>1.0</td>\n",
       "      <td>...</td>\n",
       "      <td>0</td>\n",
       "      <td>0</td>\n",
       "      <td>0</td>\n",
       "      <td>0</td>\n",
       "      <td>0</td>\n",
       "      <td>0</td>\n",
       "      <td>0</td>\n",
       "      <td>0</td>\n",
       "      <td>0</td>\n",
       "      <td>0</td>\n",
       "    </tr>\n",
       "    <tr>\n",
       "      <th>2</th>\n",
       "      <td>2987002</td>\n",
       "      <td>0.0</td>\n",
       "      <td>4663</td>\n",
       "      <td>490.0</td>\n",
       "      <td>150.0</td>\n",
       "      <td>166.0</td>\n",
       "      <td>330.0</td>\n",
       "      <td>87.0</td>\n",
       "      <td>1.0</td>\n",
       "      <td>1.0</td>\n",
       "      <td>...</td>\n",
       "      <td>0</td>\n",
       "      <td>0</td>\n",
       "      <td>0</td>\n",
       "      <td>0</td>\n",
       "      <td>0</td>\n",
       "      <td>0</td>\n",
       "      <td>0</td>\n",
       "      <td>0</td>\n",
       "      <td>0</td>\n",
       "      <td>0</td>\n",
       "    </tr>\n",
       "    <tr>\n",
       "      <th>3</th>\n",
       "      <td>2987003</td>\n",
       "      <td>0.0</td>\n",
       "      <td>18132</td>\n",
       "      <td>567.0</td>\n",
       "      <td>150.0</td>\n",
       "      <td>117.0</td>\n",
       "      <td>476.0</td>\n",
       "      <td>87.0</td>\n",
       "      <td>2.0</td>\n",
       "      <td>5.0</td>\n",
       "      <td>...</td>\n",
       "      <td>0</td>\n",
       "      <td>0</td>\n",
       "      <td>0</td>\n",
       "      <td>0</td>\n",
       "      <td>0</td>\n",
       "      <td>0</td>\n",
       "      <td>0</td>\n",
       "      <td>0</td>\n",
       "      <td>0</td>\n",
       "      <td>0</td>\n",
       "    </tr>\n",
       "    <tr>\n",
       "      <th>4</th>\n",
       "      <td>2987004</td>\n",
       "      <td>0.0</td>\n",
       "      <td>4497</td>\n",
       "      <td>514.0</td>\n",
       "      <td>150.0</td>\n",
       "      <td>102.0</td>\n",
       "      <td>420.0</td>\n",
       "      <td>87.0</td>\n",
       "      <td>1.0</td>\n",
       "      <td>1.0</td>\n",
       "      <td>...</td>\n",
       "      <td>0</td>\n",
       "      <td>0</td>\n",
       "      <td>0</td>\n",
       "      <td>0</td>\n",
       "      <td>0</td>\n",
       "      <td>0</td>\n",
       "      <td>0</td>\n",
       "      <td>0</td>\n",
       "      <td>0</td>\n",
       "      <td>0</td>\n",
       "    </tr>\n",
       "  </tbody>\n",
       "</table>\n",
       "<p>5 rows × 271 columns</p>\n",
       "</div>"
      ],
      "text/plain": [
       "   TransactionID  isFraud  card1  card2  card3  card5  addr1  addr2   C1   C2  \\\n",
       "0        2987000      0.0  13926  321.0  150.0  142.0  315.0   87.0  1.0  1.0   \n",
       "1        2987001      0.0   2755  404.0  150.0  102.0  325.0   87.0  1.0  1.0   \n",
       "2        2987002      0.0   4663  490.0  150.0  166.0  330.0   87.0  1.0  1.0   \n",
       "3        2987003      0.0  18132  567.0  150.0  117.0  476.0   87.0  2.0  5.0   \n",
       "4        2987004      0.0   4497  514.0  150.0  102.0  420.0   87.0  1.0  1.0   \n",
       "\n",
       "   ...  device_name_Windows  device_name_ale-l23 build  device_name_ane-lx3  \\\n",
       "0  ...                    0                          0                    0   \n",
       "1  ...                    0                          0                    0   \n",
       "2  ...                    0                          0                    0   \n",
       "3  ...                    0                          0                    0   \n",
       "4  ...                    0                          0                    0   \n",
       "\n",
       "   device_name_ane-lx3 build  device_name_cam-l03 build  \\\n",
       "0                          0                          0   \n",
       "1                          0                          0   \n",
       "2                          0                          0   \n",
       "3                          0                          0   \n",
       "4                          0                          0   \n",
       "\n",
       "   device_name_ios device  device_name_macos  device_name_pra-lx3 build  \\\n",
       "0                       0                  0                          0   \n",
       "1                       0                  0                          0   \n",
       "2                       0                  0                          0   \n",
       "3                       0                  0                          0   \n",
       "4                       0                  0                          0   \n",
       "\n",
       "   device_name_rne-l03 build  device_name_trident  \n",
       "0                          0                    0  \n",
       "1                          0                    0  \n",
       "2                          0                    0  \n",
       "3                          0                    0  \n",
       "4                          0                    0  \n",
       "\n",
       "[5 rows x 271 columns]"
      ]
     },
     "execution_count": 64,
     "metadata": {},
     "output_type": "execute_result"
    }
   ],
   "source": [
    "all_data = pd.get_dummies(all_data)\n",
    "print(all_data.shape)\n",
    "all_data.head()"
   ]
  },
  {
   "cell_type": "code",
   "execution_count": 65,
   "id": "bc701d36",
   "metadata": {},
   "outputs": [],
   "source": [
    "train = all_data[ : ntrain]\n",
    "test = all_data[ntrain : ]"
   ]
  },
  {
   "cell_type": "code",
   "execution_count": 66,
   "id": "1694259d",
   "metadata": {},
   "outputs": [
    {
     "name": "stdout",
     "output_type": "stream",
     "text": [
      "0\n"
     ]
    }
   ],
   "source": [
    "print(train.isnull().sum().sum())"
   ]
  },
  {
   "cell_type": "code",
   "execution_count": 67,
   "id": "48ea3562",
   "metadata": {},
   "outputs": [
    {
     "name": "stderr",
     "output_type": "stream",
     "text": [
      "C:\\Users\\Admin\\anaconda3\\lib\\site-packages\\pandas\\core\\frame.py:4308: SettingWithCopyWarning: \n",
      "A value is trying to be set on a copy of a slice from a DataFrame\n",
      "\n",
      "See the caveats in the documentation: https://pandas.pydata.org/pandas-docs/stable/user_guide/indexing.html#returning-a-view-versus-a-copy\n",
      "  return super().drop(\n"
     ]
    }
   ],
   "source": [
    "test.drop(['isFraud'], axis = 1, inplace = True)"
   ]
  },
  {
   "cell_type": "code",
   "execution_count": 68,
   "id": "bbe8d587",
   "metadata": {},
   "outputs": [],
   "source": [
    "target = train['isFraud']"
   ]
  },
  {
   "cell_type": "code",
   "execution_count": 69,
   "id": "66e9e4b2",
   "metadata": {},
   "outputs": [],
   "source": [
    "test_id = test['TransactionID']"
   ]
  },
  {
   "cell_type": "code",
   "execution_count": 70,
   "id": "55105b91",
   "metadata": {},
   "outputs": [],
   "source": [
    "train.drop(['TransactionID', 'isFraud'], axis = 1, inplace = True)"
   ]
  },
  {
   "cell_type": "code",
   "execution_count": 71,
   "id": "1f2f03af",
   "metadata": {},
   "outputs": [],
   "source": [
    "test.drop(['TransactionID'], axis = 1, inplace = True)"
   ]
  },
  {
   "cell_type": "code",
   "execution_count": 72,
   "id": "e2c431fb",
   "metadata": {},
   "outputs": [],
   "source": [
    "different_columns(train.columns, test.columns)"
   ]
  },
  {
   "cell_type": "code",
   "execution_count": 73,
   "id": "3d0a8f7f",
   "metadata": {},
   "outputs": [],
   "source": [
    "del ntrain, ntest\n"
   ]
  },
  {
   "cell_type": "code",
   "execution_count": 74,
   "id": "100284d1",
   "metadata": {},
   "outputs": [
    {
     "name": "stdout",
     "output_type": "stream",
     "text": [
      "['card1', 'card2', 'card3', 'card5', 'addr1', 'addr2', 'C1', 'C2', 'C3', 'C4', 'C5', 'C6', 'C7', 'C8', 'C9', 'C10', 'C11', 'C12', 'C13', 'C14', 'D1', 'D4', 'D10', 'D15', 'V12', 'V13', 'V14', 'V15', 'V16', 'V17', 'V18', 'V19', 'V20', 'V21', 'V22', 'V23', 'V24', 'V25', 'V26', 'V27', 'V28', 'V29', 'V30', 'V31', 'V32', 'V33', 'V34', 'V35', 'V36', 'V37', 'V38', 'V39', 'V40', 'V41', 'V42', 'V43', 'V44', 'V45', 'V46', 'V47', 'V48', 'V49', 'V50', 'V51', 'V52', 'V53', 'V54', 'V55', 'V56', 'V57', 'V58', 'V59', 'V60', 'V61', 'V62', 'V63', 'V64', 'V65', 'V66', 'V67', 'V68', 'V69', 'V70', 'V71', 'V72', 'V73', 'V74', 'V75', 'V76', 'V77', 'V78', 'V79', 'V80', 'V81', 'V82', 'V83', 'V84', 'V85', 'V86', 'V87', 'V88', 'V89', 'V90', 'V91', 'V92', 'V93', 'V94', 'V95', 'V96', 'V97', 'V98', 'V99', 'V100', 'V101', 'V102', 'V103', 'V104', 'V105', 'V106', 'V107', 'V108', 'V109', 'V110', 'V111', 'V112', 'V113', 'V114', 'V115', 'V116', 'V117', 'V118', 'V119', 'V120', 'V121', 'V122', 'V123', 'V124', 'V125', 'V126', 'V127', 'V128', 'V129', 'V130', 'V131', 'V132', 'V133', 'V134', 'V135', 'V136', 'V137', 'V279', 'V280', 'V281', 'V282', 'V283', 'V284', 'V285', 'V286', 'V287', 'V288', 'V289', 'V290', 'V291', 'V292', 'V293', 'V294', 'V295', 'V296', 'V297', 'V298', 'V299', 'V300', 'V301', 'V302', 'V303', 'V304', 'V305', 'V306', 'V307', 'V308', 'V309', 'V310', 'V311', 'V312', 'V313', 'V314', 'V315', 'V316', 'V317', 'V318', 'V319', 'V320', 'V321', 'LogTransactionAmt', 'TransactionAmt_decimal', 'Transaction_day_of_week', 'Transaction_hour_of_day', 'lastest_browser', 'had_id', 'ProductCD_C', 'ProductCD_H', 'ProductCD_R', 'ProductCD_S', 'ProductCD_W', 'card4_american express', 'card4_discover', 'card4_mastercard', 'card4_visa', 'card6_charge card', 'card6_credit', 'card6_debit', 'card6_debit or credit', 'M6_F', 'M6_T', 'P_emaildomain_bin_Unknown', 'P_emaildomain_bin_aol', 'P_emaildomain_bin_apple', 'P_emaildomain_bin_att', 'P_emaildomain_bin_centurylink', 'P_emaildomain_bin_google', 'P_emaildomain_bin_microsoft', 'P_emaildomain_bin_other', 'P_emaildomain_bin_spectrum', 'P_emaildomain_bin_yahoo', 'P_emaildomain_suffix_Unknown', 'P_emaildomain_suffix_com', 'P_emaildomain_suffix_de', 'P_emaildomain_suffix_es', 'P_emaildomain_suffix_fr', 'P_emaildomain_suffix_jp', 'P_emaildomain_suffix_mx', 'P_emaildomain_suffix_uk', 'P_emaildomain_suffix_us', 'R_emaildomain_bin_Unknown', 'R_emaildomain_bin_aol', 'R_emaildomain_bin_apple', 'R_emaildomain_bin_att', 'R_emaildomain_bin_centurylink', 'R_emaildomain_bin_google', 'R_emaildomain_bin_microsoft', 'R_emaildomain_bin_other', 'R_emaildomain_bin_spectrum', 'R_emaildomain_bin_yahoo', 'R_emaildomain_suffix_Unknown', 'R_emaildomain_suffix_com', 'R_emaildomain_suffix_de', 'R_emaildomain_suffix_es', 'R_emaildomain_suffix_fr', 'R_emaildomain_suffix_jp', 'R_emaildomain_suffix_mx', 'R_emaildomain_suffix_uk', 'R_emaildomain_suffix_us', 'device_name_Huawei', 'device_name_LG', 'device_name_Linux', 'device_name_Motorola', 'device_name_Others', 'device_name_RV', 'device_name_Samsung', 'device_name_Windows', 'device_name_ale-l23 build', 'device_name_ane-lx3', 'device_name_ane-lx3 build', 'device_name_cam-l03 build', 'device_name_ios device', 'device_name_macos', 'device_name_pra-lx3 build', 'device_name_rne-l03 build', 'device_name_trident']\n"
     ]
    }
   ],
   "source": [
    "n = (train.dtypes != 'object')\n",
    "\n",
    "num_train_cols = list(n[n].index) \n",
    "\n",
    "print(num_train_cols)"
   ]
  },
  {
   "cell_type": "code",
   "execution_count": 75,
   "id": "631c0f44",
   "metadata": {},
   "outputs": [],
   "source": [
    "# Reducing memory usage\n",
    "def detect_num_cols_to_shrink(list_of_num_cols, dataframe):\n",
    " \n",
    "    convert_to_int8 = []\n",
    "    convert_to_int16 = []\n",
    "    convert_to_int32 = []\n",
    "    \n",
    "    #  sadly the datatype float8 does not exist\n",
    "    convert_to_float16 = []\n",
    "    convert_to_float32 = []\n",
    "    \n",
    "    for col in list_of_num_cols:\n",
    "        \n",
    "        if dataframe[col].dtype in ['int', 'int8', 'int32', 'int64']:\n",
    "            \n",
    "            describe_object = dataframe[col].describe()\n",
    "            minimum = describe_object[3]\n",
    "            maximum = describe_object[7]\n",
    "            diff = abs(maximum - minimum)\n",
    "\n",
    "            if diff < 255:\n",
    "                convert_to_int8.append(col)\n",
    "                \n",
    "            elif diff < 65535:\n",
    "                convert_to_int16.append(col)\n",
    "                \n",
    "            elif diff < 4294967295:\n",
    "                convert_to_int32.append(col)   \n",
    "                \n",
    "        elif dataframe[col].dtype in ['float', 'float16', 'float32', 'float64']:\n",
    "            \n",
    "            describe_object = dataframe[col].describe()\n",
    "            minimum = describe_object[3]\n",
    "            maximum = describe_object[7]\n",
    "            diff = abs(maximum - minimum)\n",
    "\n",
    "            if diff < 65535:\n",
    "                convert_to_float16.append(col)\n",
    "                \n",
    "            elif diff < 4294967295:\n",
    "                convert_to_float32.append(col) \n",
    "        \n",
    "    list_of_lists = []\n",
    "    list_of_lists.append(convert_to_int8)\n",
    "    list_of_lists.append(convert_to_int16)\n",
    "    list_of_lists.append(convert_to_int32)\n",
    "    list_of_lists.append(convert_to_float16)\n",
    "    list_of_lists.append(convert_to_float32)\n",
    "    \n",
    "    return list_of_lists"
   ]
  },
  {
   "cell_type": "code",
   "execution_count": 76,
   "id": "d53b563f",
   "metadata": {},
   "outputs": [
    {
     "name": "stdout",
     "output_type": "stream",
     "text": [
      "convert_to_int8 : ['had_id'] \n",
      "\n",
      "convert_to_int16 : ['TransactionAmt_decimal'] \n",
      "\n",
      "convert_to_int32 : [] \n",
      "\n",
      "convert_to_float16 : ['card2', 'card3', 'card5', 'addr1', 'addr2', 'C1', 'C2', 'C3', 'C4', 'C5', 'C6', 'C7', 'C8', 'C9', 'C10', 'C11', 'C12', 'C13', 'C14', 'D1', 'D4', 'D10', 'D15', 'V12', 'V13', 'V14', 'V15', 'V16', 'V17', 'V18', 'V19', 'V20', 'V21', 'V22', 'V23', 'V24', 'V25', 'V26', 'V27', 'V28', 'V29', 'V30', 'V31', 'V32', 'V33', 'V34', 'V35', 'V36', 'V37', 'V38', 'V39', 'V40', 'V41', 'V42', 'V43', 'V44', 'V45', 'V46', 'V47', 'V48', 'V49', 'V50', 'V51', 'V52', 'V53', 'V54', 'V55', 'V56', 'V57', 'V58', 'V59', 'V60', 'V61', 'V62', 'V63', 'V64', 'V65', 'V66', 'V67', 'V68', 'V69', 'V70', 'V71', 'V72', 'V73', 'V74', 'V75', 'V76', 'V77', 'V78', 'V79', 'V80', 'V81', 'V82', 'V83', 'V84', 'V85', 'V86', 'V87', 'V88', 'V89', 'V90', 'V91', 'V92', 'V93', 'V94', 'V95', 'V96', 'V97', 'V98', 'V99', 'V100', 'V101', 'V102', 'V103', 'V104', 'V105', 'V106', 'V107', 'V108', 'V109', 'V110', 'V111', 'V112', 'V113', 'V114', 'V115', 'V116', 'V117', 'V118', 'V119', 'V120', 'V121', 'V122', 'V123', 'V124', 'V125', 'V129', 'V130', 'V131', 'V279', 'V280', 'V281', 'V282', 'V283', 'V284', 'V285', 'V286', 'V287', 'V288', 'V289', 'V290', 'V291', 'V292', 'V293', 'V294', 'V295', 'V296', 'V297', 'V298', 'V299', 'V300', 'V301', 'V302', 'V303', 'V304', 'V305', 'V309', 'V310', 'V311', 'V312', 'V313', 'V314', 'V315', 'LogTransactionAmt', 'Transaction_day_of_week', 'Transaction_hour_of_day', 'lastest_browser'] \n",
      "\n",
      "convert_to_float32 : ['V126', 'V127', 'V128', 'V132', 'V133', 'V134', 'V135', 'V136', 'V137', 'V306', 'V307', 'V308', 'V316', 'V317', 'V318', 'V319', 'V320', 'V321'] \n",
      "\n"
     ]
    }
   ],
   "source": [
    "num_cols_to_shrink_train = detect_num_cols_to_shrink(num_train_cols, train)\n",
    "\n",
    "convert_to_int8 = num_cols_to_shrink_train[0]\n",
    "convert_to_int16 = num_cols_to_shrink_train[1]\n",
    "convert_to_int32 = num_cols_to_shrink_train[2]\n",
    "\n",
    "convert_to_float16 = num_cols_to_shrink_train[3]\n",
    "convert_to_float32 = num_cols_to_shrink_train[4]\n",
    "\n",
    "print(\"convert_to_int8 :\", convert_to_int8, \"\\n\")\n",
    "print(\"convert_to_int16 :\", convert_to_int16, \"\\n\")\n",
    "print(\"convert_to_int32 :\", convert_to_int32, \"\\n\")\n",
    "\n",
    "print(\"convert_to_float16 :\", convert_to_float16, \"\\n\")\n",
    "print(\"convert_to_float32 :\", convert_to_float32, \"\\n\")"
   ]
  },
  {
   "cell_type": "code",
   "execution_count": 77,
   "id": "92554754",
   "metadata": {},
   "outputs": [
    {
     "name": "stdout",
     "output_type": "stream",
     "text": [
      "starting with converting process....\n"
     ]
    },
    {
     "name": "stderr",
     "output_type": "stream",
     "text": [
      "<ipython-input-77-d4359070c678>:5: SettingWithCopyWarning: \n",
      "A value is trying to be set on a copy of a slice from a DataFrame.\n",
      "Try using .loc[row_indexer,col_indexer] = value instead\n",
      "\n",
      "See the caveats in the documentation: https://pandas.pydata.org/pandas-docs/stable/user_guide/indexing.html#returning-a-view-versus-a-copy\n",
      "  train[col] = train[col].astype('int16')\n",
      "<ipython-input-77-d4359070c678>:11: SettingWithCopyWarning: \n",
      "A value is trying to be set on a copy of a slice from a DataFrame.\n",
      "Try using .loc[row_indexer,col_indexer] = value instead\n",
      "\n",
      "See the caveats in the documentation: https://pandas.pydata.org/pandas-docs/stable/user_guide/indexing.html#returning-a-view-versus-a-copy\n",
      "  train[col] = train[col].astype('float16')\n"
     ]
    },
    {
     "name": "stdout",
     "output_type": "stream",
     "text": [
      "successfully converted!\n"
     ]
    },
    {
     "name": "stderr",
     "output_type": "stream",
     "text": [
      "<ipython-input-77-d4359070c678>:14: SettingWithCopyWarning: \n",
      "A value is trying to be set on a copy of a slice from a DataFrame.\n",
      "Try using .loc[row_indexer,col_indexer] = value instead\n",
      "\n",
      "See the caveats in the documentation: https://pandas.pydata.org/pandas-docs/stable/user_guide/indexing.html#returning-a-view-versus-a-copy\n",
      "  train[col] = train[col].astype('float32')\n"
     ]
    }
   ],
   "source": [
    "print(\"starting with converting process....\")\n",
    "\n",
    "for col in convert_to_int16:\n",
    "    \n",
    "    train[col] = train[col].astype('int16') \n",
    "    \n",
    "for col in convert_to_int32:\n",
    "    train[col] = train[col].astype('int32') \n",
    "\n",
    "for col in convert_to_float16:\n",
    "    train[col] = train[col].astype('float16')\n",
    "    \n",
    "for col in convert_to_float32:\n",
    "    train[col] = train[col].astype('float32')\n",
    "    \n",
    "print(\"successfully converted!\")"
   ]
  },
  {
   "cell_type": "code",
   "execution_count": 78,
   "id": "b5fcf7c1",
   "metadata": {},
   "outputs": [
    {
     "name": "stdout",
     "output_type": "stream",
     "text": [
      "['card1', 'card2', 'card3', 'card5', 'addr1', 'addr2', 'C1', 'C2', 'C3', 'C4', 'C5', 'C6', 'C7', 'C8', 'C9', 'C10', 'C11', 'C12', 'C13', 'C14', 'D1', 'D4', 'D10', 'D15', 'V12', 'V13', 'V14', 'V15', 'V16', 'V17', 'V18', 'V19', 'V20', 'V21', 'V22', 'V23', 'V24', 'V25', 'V26', 'V27', 'V28', 'V29', 'V30', 'V31', 'V32', 'V33', 'V34', 'V35', 'V36', 'V37', 'V38', 'V39', 'V40', 'V41', 'V42', 'V43', 'V44', 'V45', 'V46', 'V47', 'V48', 'V49', 'V50', 'V51', 'V52', 'V53', 'V54', 'V55', 'V56', 'V57', 'V58', 'V59', 'V60', 'V61', 'V62', 'V63', 'V64', 'V65', 'V66', 'V67', 'V68', 'V69', 'V70', 'V71', 'V72', 'V73', 'V74', 'V75', 'V76', 'V77', 'V78', 'V79', 'V80', 'V81', 'V82', 'V83', 'V84', 'V85', 'V86', 'V87', 'V88', 'V89', 'V90', 'V91', 'V92', 'V93', 'V94', 'V95', 'V96', 'V97', 'V98', 'V99', 'V100', 'V101', 'V102', 'V103', 'V104', 'V105', 'V106', 'V107', 'V108', 'V109', 'V110', 'V111', 'V112', 'V113', 'V114', 'V115', 'V116', 'V117', 'V118', 'V119', 'V120', 'V121', 'V122', 'V123', 'V124', 'V125', 'V126', 'V127', 'V128', 'V129', 'V130', 'V131', 'V132', 'V133', 'V134', 'V135', 'V136', 'V137', 'V279', 'V280', 'V281', 'V282', 'V283', 'V284', 'V285', 'V286', 'V287', 'V288', 'V289', 'V290', 'V291', 'V292', 'V293', 'V294', 'V295', 'V296', 'V297', 'V298', 'V299', 'V300', 'V301', 'V302', 'V303', 'V304', 'V305', 'V306', 'V307', 'V308', 'V309', 'V310', 'V311', 'V312', 'V313', 'V314', 'V315', 'V316', 'V317', 'V318', 'V319', 'V320', 'V321', 'LogTransactionAmt', 'TransactionAmt_decimal', 'Transaction_day_of_week', 'Transaction_hour_of_day', 'lastest_browser', 'had_id', 'ProductCD_C', 'ProductCD_H', 'ProductCD_R', 'ProductCD_S', 'ProductCD_W', 'card4_american express', 'card4_discover', 'card4_mastercard', 'card4_visa', 'card6_charge card', 'card6_credit', 'card6_debit', 'card6_debit or credit', 'M6_F', 'M6_T', 'P_emaildomain_bin_Unknown', 'P_emaildomain_bin_aol', 'P_emaildomain_bin_apple', 'P_emaildomain_bin_att', 'P_emaildomain_bin_centurylink', 'P_emaildomain_bin_google', 'P_emaildomain_bin_microsoft', 'P_emaildomain_bin_other', 'P_emaildomain_bin_spectrum', 'P_emaildomain_bin_yahoo', 'P_emaildomain_suffix_Unknown', 'P_emaildomain_suffix_com', 'P_emaildomain_suffix_de', 'P_emaildomain_suffix_es', 'P_emaildomain_suffix_fr', 'P_emaildomain_suffix_jp', 'P_emaildomain_suffix_mx', 'P_emaildomain_suffix_uk', 'P_emaildomain_suffix_us', 'R_emaildomain_bin_Unknown', 'R_emaildomain_bin_aol', 'R_emaildomain_bin_apple', 'R_emaildomain_bin_att', 'R_emaildomain_bin_centurylink', 'R_emaildomain_bin_google', 'R_emaildomain_bin_microsoft', 'R_emaildomain_bin_other', 'R_emaildomain_bin_spectrum', 'R_emaildomain_bin_yahoo', 'R_emaildomain_suffix_Unknown', 'R_emaildomain_suffix_com', 'R_emaildomain_suffix_de', 'R_emaildomain_suffix_es', 'R_emaildomain_suffix_fr', 'R_emaildomain_suffix_jp', 'R_emaildomain_suffix_mx', 'R_emaildomain_suffix_uk', 'R_emaildomain_suffix_us', 'device_name_Huawei', 'device_name_LG', 'device_name_Linux', 'device_name_Motorola', 'device_name_Others', 'device_name_RV', 'device_name_Samsung', 'device_name_Windows', 'device_name_ale-l23 build', 'device_name_ane-lx3', 'device_name_ane-lx3 build', 'device_name_cam-l03 build', 'device_name_ios device', 'device_name_macos', 'device_name_pra-lx3 build', 'device_name_rne-l03 build', 'device_name_trident']\n"
     ]
    }
   ],
   "source": [
    "n = (test.dtypes != 'object')\n",
    "\n",
    "num_test_cols = list(n[n].index) \n",
    "\n",
    "print(num_test_cols)"
   ]
  },
  {
   "cell_type": "code",
   "execution_count": 79,
   "id": "df65e2c9",
   "metadata": {},
   "outputs": [
    {
     "name": "stdout",
     "output_type": "stream",
     "text": [
      "convert_to_int8 : ['had_id'] \n",
      "\n",
      "convert_to_int16 : ['TransactionAmt_decimal'] \n",
      "\n",
      "convert_to_int32 : [] \n",
      "\n",
      "convert_to_float16 : ['card2', 'card3', 'card5', 'addr1', 'addr2', 'C1', 'C2', 'C3', 'C4', 'C5', 'C6', 'C7', 'C8', 'C9', 'C10', 'C11', 'C12', 'C13', 'C14', 'D1', 'D4', 'D10', 'D15', 'V12', 'V13', 'V14', 'V15', 'V16', 'V17', 'V18', 'V19', 'V20', 'V21', 'V22', 'V23', 'V24', 'V25', 'V26', 'V27', 'V28', 'V29', 'V30', 'V31', 'V32', 'V33', 'V34', 'V35', 'V36', 'V37', 'V38', 'V39', 'V40', 'V41', 'V42', 'V43', 'V44', 'V45', 'V46', 'V47', 'V48', 'V49', 'V50', 'V51', 'V52', 'V53', 'V54', 'V55', 'V56', 'V57', 'V58', 'V59', 'V60', 'V61', 'V62', 'V63', 'V64', 'V65', 'V66', 'V67', 'V68', 'V69', 'V70', 'V71', 'V72', 'V73', 'V74', 'V75', 'V76', 'V77', 'V78', 'V79', 'V80', 'V81', 'V82', 'V83', 'V84', 'V85', 'V86', 'V87', 'V88', 'V89', 'V90', 'V91', 'V92', 'V93', 'V94', 'V95', 'V96', 'V97', 'V98', 'V99', 'V100', 'V101', 'V102', 'V103', 'V104', 'V105', 'V106', 'V107', 'V108', 'V109', 'V110', 'V111', 'V112', 'V113', 'V114', 'V115', 'V116', 'V117', 'V118', 'V119', 'V120', 'V121', 'V122', 'V123', 'V124', 'V125', 'V129', 'V279', 'V280', 'V281', 'V282', 'V283', 'V284', 'V285', 'V286', 'V287', 'V288', 'V289', 'V290', 'V291', 'V292', 'V293', 'V294', 'V295', 'V296', 'V297', 'V298', 'V299', 'V300', 'V301', 'V302', 'V303', 'V304', 'V305', 'V309', 'V311', 'V313', 'V314', 'V315', 'LogTransactionAmt', 'Transaction_day_of_week', 'Transaction_hour_of_day', 'lastest_browser'] \n",
      "\n",
      "convert_to_float32 : ['V126', 'V127', 'V128', 'V130', 'V131', 'V132', 'V133', 'V134', 'V135', 'V136', 'V137', 'V306', 'V307', 'V308', 'V310', 'V312', 'V316', 'V317', 'V318', 'V319', 'V320', 'V321'] \n",
      "\n"
     ]
    }
   ],
   "source": [
    "num_cols_to_shrink_test = detect_num_cols_to_shrink(num_test_cols, test)\n",
    "\n",
    "convert_to_int8 = num_cols_to_shrink_test[0]\n",
    "convert_to_int16 = num_cols_to_shrink_test[1]\n",
    "convert_to_int32 = num_cols_to_shrink_test[2]\n",
    "\n",
    "convert_to_float16 = num_cols_to_shrink_test[3]\n",
    "convert_to_float32 = num_cols_to_shrink_test[4]\n",
    "\n",
    "print(\"convert_to_int8 :\", convert_to_int8, \"\\n\")\n",
    "print(\"convert_to_int16 :\", convert_to_int16, \"\\n\")\n",
    "print(\"convert_to_int32 :\", convert_to_int32, \"\\n\")\n",
    "\n",
    "print(\"convert_to_float16 :\", convert_to_float16, \"\\n\")\n",
    "print(\"convert_to_float32 :\", convert_to_float32, \"\\n\")"
   ]
  },
  {
   "cell_type": "code",
   "execution_count": 80,
   "id": "4a3483dc",
   "metadata": {},
   "outputs": [
    {
     "name": "stdout",
     "output_type": "stream",
     "text": [
      "starting with converting process....\n"
     ]
    },
    {
     "name": "stderr",
     "output_type": "stream",
     "text": [
      "<ipython-input-80-3f6163d5ea5f>:5: SettingWithCopyWarning: \n",
      "A value is trying to be set on a copy of a slice from a DataFrame.\n",
      "Try using .loc[row_indexer,col_indexer] = value instead\n",
      "\n",
      "See the caveats in the documentation: https://pandas.pydata.org/pandas-docs/stable/user_guide/indexing.html#returning-a-view-versus-a-copy\n",
      "  test[col] = test[col].astype('int16')\n",
      "<ipython-input-80-3f6163d5ea5f>:11: SettingWithCopyWarning: \n",
      "A value is trying to be set on a copy of a slice from a DataFrame.\n",
      "Try using .loc[row_indexer,col_indexer] = value instead\n",
      "\n",
      "See the caveats in the documentation: https://pandas.pydata.org/pandas-docs/stable/user_guide/indexing.html#returning-a-view-versus-a-copy\n",
      "  test[col] = test[col].astype('float16')\n"
     ]
    },
    {
     "name": "stdout",
     "output_type": "stream",
     "text": [
      "successfully converted!\n"
     ]
    },
    {
     "name": "stderr",
     "output_type": "stream",
     "text": [
      "<ipython-input-80-3f6163d5ea5f>:14: SettingWithCopyWarning: \n",
      "A value is trying to be set on a copy of a slice from a DataFrame.\n",
      "Try using .loc[row_indexer,col_indexer] = value instead\n",
      "\n",
      "See the caveats in the documentation: https://pandas.pydata.org/pandas-docs/stable/user_guide/indexing.html#returning-a-view-versus-a-copy\n",
      "  test[col] = test[col].astype('float32')\n"
     ]
    }
   ],
   "source": [
    "print(\"starting with converting process....\")\n",
    "\n",
    "for col in convert_to_int16:\n",
    "    \n",
    "    test[col] = test[col].astype('int16') \n",
    "    \n",
    "for col in convert_to_int32:\n",
    "    test[col] = test[col].astype('int32') \n",
    "\n",
    "for col in convert_to_float16:\n",
    "    test[col] = test[col].astype('float16')\n",
    "    \n",
    "for col in convert_to_float32:\n",
    "    test[col] = test[col].astype('float32')\n",
    "    \n",
    "print(\"successfully converted!\")"
   ]
  },
  {
   "cell_type": "markdown",
   "id": "cb1de389",
   "metadata": {},
   "source": [
    "## Model Building and Comparison"
   ]
  },
  {
   "cell_type": "code",
   "execution_count": 81,
   "id": "5b130289",
   "metadata": {},
   "outputs": [],
   "source": [
    "from sklearn.model_selection import train_test_split\n",
    "from sklearn import preprocessing\n",
    "from sklearn.linear_model import LinearRegression\n",
    "\n",
    "from sklearn.metrics import mean_squared_error, r2_score\n",
    "\n",
    "from sklearn.ensemble import RandomForestRegressor\n",
    "import time"
   ]
  },
  {
   "cell_type": "code",
   "execution_count": 82,
   "id": "4c729c0f",
   "metadata": {},
   "outputs": [],
   "source": [
    "X_train, X_test, y_train, y_test = train_test_split(train, target,\n",
    "                                                    test_size=0.2,\n",
    "                                                    random_state=123,\n",
    "                                                    stratify=target)"
   ]
  },
  {
   "cell_type": "code",
   "execution_count": 83,
   "id": "8fe7a401",
   "metadata": {},
   "outputs": [],
   "source": [
    "from sklearn.preprocessing import StandardScaler\n",
    "sc = StandardScaler()\n",
    "X_train = sc.fit_transform(X_train)\n",
    "X_test = sc.transform(X_test)"
   ]
  },
  {
   "cell_type": "code",
   "execution_count": 84,
   "id": "4ec4fe47",
   "metadata": {},
   "outputs": [],
   "source": [
    "df_models = pd.DataFrame(columns = ['Model Name', 'Accuracy', 'Time'])"
   ]
  },
  {
   "cell_type": "code",
   "execution_count": 85,
   "id": "e785597c",
   "metadata": {},
   "outputs": [],
   "source": [
    "from sklearn.ensemble import RandomForestClassifier\n",
    "\n",
    "regressor = RandomForestClassifier(n_estimators=100, random_state=0,max_depth=5)\n",
    "\n",
    "t0 = time.time()\n",
    "regressor.fit(X_train, y_train)\n",
    "td = time.time()-t0 \n"
   ]
  },
  {
   "cell_type": "code",
   "execution_count": 86,
   "id": "8466ee6c",
   "metadata": {},
   "outputs": [],
   "source": [
    "y_pred = regressor.predict(X_test)"
   ]
  },
  {
   "cell_type": "code",
   "execution_count": 87,
   "id": "e5b4a66a",
   "metadata": {},
   "outputs": [],
   "source": [
    "from sklearn.metrics import classification_report, confusion_matrix, accuracy_score, ConfusionMatrixDisplay"
   ]
  },
  {
   "cell_type": "code",
   "execution_count": 88,
   "id": "fa099cb8",
   "metadata": {},
   "outputs": [
    {
     "name": "stdout",
     "output_type": "stream",
     "text": [
      "Classification Report:\n",
      "              precision    recall  f1-score   support\n",
      "\n",
      "         0.0       0.97      1.00      0.98    113975\n",
      "         1.0       0.89      0.13      0.22      4133\n",
      "\n",
      "    accuracy                           0.97    118108\n",
      "   macro avg       0.93      0.56      0.60    118108\n",
      "weighted avg       0.97      0.97      0.96    118108\n",
      "\n",
      "Accuracy:\n",
      "0.9689267450130389\n",
      "\n",
      "Confusion Matrix:\n"
     ]
    },
    {
     "data": {
      "image/png": "[encoded data removed]",
      "text/plain": [
       "<Figure size 432x288 with 2 Axes>"
      ]
     },
     "metadata": {
      "needs_background": "light"
     },
     "output_type": "display_data"
    }
   ],
   "source": [
    "\n",
    "\n",
    "cm=confusion_matrix(y_test,y_pred)\n",
    "cmd = ConfusionMatrixDisplay(cm)\n",
    "cmd.plot()\n",
    "\n",
    "\n",
    "print('Classification Report:')\n",
    "print(classification_report(y_test,y_pred))\n",
    "\n",
    "print('Accuracy:')\n",
    "accuracy = accuracy_score(y_test, y_pred)\n",
    "print(accuracy)\n",
    "print()\n",
    "print('Confusion Matrix:')\n",
    "model_values = {'Model Name': 'RandomForestClassifier', 'Accuracy': accuracy, 'Time': td}\n",
    "df_models = df_models.append(model_values, ignore_index = True)\n",
    "\n"
   ]
  },
  {
   "cell_type": "code",
   "execution_count": 89,
   "id": "aae529f5",
   "metadata": {},
   "outputs": [],
   "source": [
    "import tensorflow as tf\n",
    "from tensorflow import keras\n",
    "from tensorflow.keras import layers\n",
    "from keras.models import Sequential\n",
    "from keras.layers import Dense"
   ]
  },
  {
   "cell_type": "code",
   "execution_count": 40,
   "id": "8dc5e222",
   "metadata": {},
   "outputs": [],
   "source": [
    "\n",
    "\n",
    "def make_classification_ann(Optimizer_Trial, Neurons_Trial):\n",
    "    \n",
    "    \n",
    "    # Creating the classifier ANN model\n",
    "    classifier = Sequential()\n",
    "    classifier.add(Dense(units=Neurons_Trial, input_dim=X_train.shape[1], kernel_initializer='uniform', activation='relu'))\n",
    "    classifier.add(Dense(units=Neurons_Trial, kernel_initializer='uniform', activation='relu'))\n",
    "    classifier.add(Dense(units=1, kernel_initializer='uniform', activation='sigmoid'))\n",
    "    classifier.compile(optimizer=Optimizer_Trial, loss='binary_crossentropy', metrics=['accuracy'])\n",
    "            \n",
    "    return classifier"
   ]
  },
  {
   "cell_type": "code",
   "execution_count": 41,
   "id": "a3a58653",
   "metadata": {},
   "outputs": [],
   "source": [
    "from sklearn.model_selection import GridSearchCV\n",
    "from keras.wrappers.scikit_learn import KerasClassifier\n",
    " \n",
    " \n",
    "Parameter_Trials={'batch_size':[10,20],\n",
    "                      'epochs':[10,20],\n",
    "                    'Optimizer_Trial':['adam', 'rmsprop'],\n",
    "                  'Neurons_Trial': [5,10]\n",
    "                 }"
   ]
  },
  {
   "cell_type": "code",
   "execution_count": 42,
   "id": "28a473e9",
   "metadata": {},
   "outputs": [
    {
     "name": "stderr",
     "output_type": "stream",
     "text": [
      "<ipython-input-42-70d574e316ba>:1: DeprecationWarning: KerasClassifier is deprecated, use Sci-Keras (https://github.com/adriangb/scikeras) instead. See https://www.adriangb.com/scikeras/stable/migration.html for help migrating.\n",
      "  classifierModel=KerasClassifier(make_classification_ann, verbose=0)\n"
     ]
    }
   ],
   "source": [
    "classifierModel=KerasClassifier(make_classification_ann, verbose=0)"
   ]
  },
  {
   "cell_type": "code",
   "execution_count": 43,
   "id": "19f184d4",
   "metadata": {},
   "outputs": [
    {
     "name": "stdout",
     "output_type": "stream",
     "text": [
      "Number of CPUs in the system: 8\n"
     ]
    }
   ],
   "source": [
    "import os\n",
    "n_cpu = os.cpu_count()\n",
    "print(\"Number of CPUs in the system:\", n_cpu)"
   ]
  },
  {
   "cell_type": "code",
   "execution_count": 48,
   "id": "29f8c393",
   "metadata": {},
   "outputs": [],
   "source": [
    "from sklearn.model_selection import RandomizedSearchCV\n",
    "random_search=RandomizedSearchCV(estimator=classifierModel, param_distributions =Parameter_Trials, scoring='f1', cv=5,n_jobs=4)"
   ]
  },
  {
   "cell_type": "code",
   "execution_count": 49,
   "id": "50220dfd",
   "metadata": {},
   "outputs": [
    {
     "name": "stderr",
     "output_type": "stream",
     "text": [
      "C:\\Users\\Admin\\anaconda3\\lib\\site-packages\\joblib\\externals\\loky\\process_executor.py:688: UserWarning: A worker stopped while some jobs were given to the executor. This can be caused by a too short worker timeout or by a memory leak.\n",
      "  warnings.warn(\n"
     ]
    },
    {
     "name": "stdout",
     "output_type": "stream",
     "text": [
      "Epoch 1/20\n",
      "23622/23622 [==============================] - 59s 2ms/step - loss: 0.1187 - accuracy: 0.9666\n",
      "Epoch 2/20\n",
      "23622/23622 [==============================] - 57s 2ms/step - loss: 0.1088 - accuracy: 0.9702\n",
      "Epoch 3/20\n",
      "23622/23622 [==============================] - 58s 2ms/step - loss: 0.1062 - accuracy: 0.9709\n",
      "Epoch 4/20\n",
      "23622/23622 [==============================] - 58s 2ms/step - loss: 0.1048 - accuracy: 0.9711\n",
      "Epoch 5/20\n",
      "23622/23622 [==============================] - 58s 2ms/step - loss: 0.1034 - accuracy: 0.9714\n",
      "Epoch 6/20\n",
      "23622/23622 [==============================] - 58s 2ms/step - loss: 0.1025 - accuracy: 0.9718\n",
      "Epoch 7/20\n",
      "23622/23622 [==============================] - 21343s 904ms/step - loss: 0.1019 - accuracy: 0.9719\n",
      "Epoch 8/20\n",
      "23622/23622 [==============================] - 34s 1ms/step - loss: 0.1011 - accuracy: 0.9721\n",
      "Epoch 9/20\n",
      "23622/23622 [==============================] - 35s 1ms/step - loss: 0.1005 - accuracy: 0.9721\n",
      "Epoch 10/20\n",
      "23622/23622 [==============================] - 35s 1ms/step - loss: 0.1001 - accuracy: 0.9722\n",
      "Epoch 11/20\n",
      "23622/23622 [==============================] - 33s 1ms/step - loss: 0.0996 - accuracy: 0.9724\n",
      "Epoch 12/20\n",
      "23622/23622 [==============================] - 32s 1ms/step - loss: 0.0993 - accuracy: 0.9725\n",
      "Epoch 13/20\n",
      "23622/23622 [==============================] - 31s 1ms/step - loss: 0.0990 - accuracy: 0.9726\n",
      "Epoch 14/20\n",
      "23622/23622 [==============================] - 31s 1ms/step - loss: 0.0985 - accuracy: 0.9726\n",
      "Epoch 15/20\n",
      "23622/23622 [==============================] - 32s 1ms/step - loss: 0.0983 - accuracy: 0.9727\n",
      "Epoch 16/20\n",
      "23622/23622 [==============================] - 31s 1ms/step - loss: 0.0980 - accuracy: 0.9727\n",
      "Epoch 17/20\n",
      "23622/23622 [==============================] - 32s 1ms/step - loss: 0.0976 - accuracy: 0.9730\n",
      "Epoch 18/20\n",
      "23622/23622 [==============================] - 32s 1ms/step - loss: 0.0974 - accuracy: 0.9730\n",
      "Epoch 19/20\n",
      "23622/23622 [==============================] - 34s 1ms/step - loss: 0.0971 - accuracy: 0.9731\n",
      "Epoch 20/20\n",
      "23622/23622 [==============================] - 35s 1ms/step - loss: 0.0968 - accuracy: 0.9731\n"
     ]
    },
    {
     "data": {
      "text/plain": [
       "RandomizedSearchCV(cv=5,\n",
       "                   estimator=<keras.wrappers.scikit_learn.KerasClassifier object at 0x00000207C1736910>,\n",
       "                   n_jobs=4,\n",
       "                   param_distributions={'Neurons_Trial': [5, 10],\n",
       "                                        'Optimizer_Trial': ['adam', 'rmsprop'],\n",
       "                                        'batch_size': [10, 20],\n",
       "                                        'epochs': [10, 20]},\n",
       "                   scoring='f1')"
      ]
     },
     "execution_count": 49,
     "metadata": {},
     "output_type": "execute_result"
    }
   ],
   "source": [
    "random_search.fit(X_train,y_train, verbose=1)"
   ]
  },
  {
   "cell_type": "code",
   "execution_count": 50,
   "id": "dc536950",
   "metadata": {},
   "outputs": [
    {
     "data": {
      "text/plain": [
       "{'epochs': 20,\n",
       " 'batch_size': 20,\n",
       " 'Optimizer_Trial': 'adam',\n",
       " 'Neurons_Trial': 10}"
      ]
     },
     "execution_count": 50,
     "metadata": {},
     "output_type": "execute_result"
    }
   ],
   "source": [
    "random_search.best_params_"
   ]
  },
  {
   "cell_type": "code",
   "execution_count": 90,
   "id": "1f819681",
   "metadata": {},
   "outputs": [],
   "source": [
    "classifier = keras.Sequential()\n",
    "classifier.add(layers.Dense(units=10, input_dim=X_train.shape[1], kernel_initializer='uniform', activation='relu'))\n",
    "classifier.add(layers.Dense(units=6, kernel_initializer='uniform', activation='relu'))\n",
    "classifier.add(layers.Dense(units=1, kernel_initializer='uniform', activation='sigmoid'))\n",
    "classifier.compile(optimizer='adam', loss='binary_crossentropy', metrics=['accuracy'])"
   ]
  },
  {
   "cell_type": "code",
   "execution_count": 91,
   "id": "8c7dd30e",
   "metadata": {},
   "outputs": [
    {
     "name": "stdout",
     "output_type": "stream",
     "text": [
      "Epoch 1/20\n",
      "23622/23622 [==============================] - 68s 3ms/step - loss: 0.1159 - accuracy: 0.9676\n",
      "Epoch 2/20\n",
      "23622/23622 [==============================] - 68s 3ms/step - loss: 0.1077 - accuracy: 0.9700\n",
      "Epoch 3/20\n",
      "23622/23622 [==============================] - 67s 3ms/step - loss: 0.1042 - accuracy: 0.9712\n",
      "Epoch 4/20\n",
      "23622/23622 [==============================] - 66s 3ms/step - loss: 0.1023 - accuracy: 0.9717\n",
      "Epoch 5/20\n",
      "23622/23622 [==============================] - 68s 3ms/step - loss: 0.1013 - accuracy: 0.9720\n",
      "Epoch 6/20\n",
      "23622/23622 [==============================] - 69s 3ms/step - loss: 0.1003 - accuracy: 0.9723\n",
      "Epoch 7/20\n",
      "23622/23622 [==============================] - 66s 3ms/step - loss: 0.0993 - accuracy: 0.9726\n",
      "Epoch 8/20\n",
      "23622/23622 [==============================] - 64s 3ms/step - loss: 0.0983 - accuracy: 0.9729\n",
      "Epoch 9/20\n",
      "23622/23622 [==============================] - 65s 3ms/step - loss: 0.0977 - accuracy: 0.9730\n",
      "Epoch 10/20\n",
      "23622/23622 [==============================] - 67s 3ms/step - loss: 0.0971 - accuracy: 0.9733\n",
      "Epoch 11/20\n",
      "23622/23622 [==============================] - 64s 3ms/step - loss: 0.0967 - accuracy: 0.9734\n",
      "Epoch 12/20\n",
      "23622/23622 [==============================] - 64s 3ms/step - loss: 0.0962 - accuracy: 0.9735\n",
      "Epoch 13/20\n",
      "23622/23622 [==============================] - 66s 3ms/step - loss: 0.0957 - accuracy: 0.9737\n",
      "Epoch 14/20\n",
      "23622/23622 [==============================] - 66s 3ms/step - loss: 0.0953 - accuracy: 0.9738\n",
      "Epoch 15/20\n",
      "23622/23622 [==============================] - 67s 3ms/step - loss: 0.0951 - accuracy: 0.9739\n",
      "Epoch 16/20\n",
      "23622/23622 [==============================] - 69s 3ms/step - loss: 0.0948 - accuracy: 0.9740\n",
      "Epoch 17/20\n",
      "23622/23622 [==============================] - 70s 3ms/step - loss: 0.0944 - accuracy: 0.9741\n",
      "Epoch 18/20\n",
      "23622/23622 [==============================] - 69s 3ms/step - loss: 0.0942 - accuracy: 0.9741\n",
      "Epoch 19/20\n",
      "23622/23622 [==============================] - 66s 3ms/step - loss: 0.0940 - accuracy: 0.9742\n",
      "Epoch 20/20\n",
      "23622/23622 [==============================] - 63s 3ms/step - loss: 0.0938 - accuracy: 0.9741\n"
     ]
    }
   ],
   "source": [
    "t0 = time.time()\n",
    "classifier.fit(X_train,y_train, batch_size=20 , epochs=20, verbose=1)\n",
    "td = time.time()-t0 "
   ]
  },
  {
   "cell_type": "code",
   "execution_count": 92,
   "id": "bdc771d4",
   "metadata": {},
   "outputs": [],
   "source": [
    "y_pred = classifier.predict(X_test)"
   ]
  },
  {
   "cell_type": "code",
   "execution_count": 93,
   "id": "93e91bd2",
   "metadata": {},
   "outputs": [
    {
     "data": {
      "text/plain": [
       "array([[0],\n",
       "       [0],\n",
       "       [0],\n",
       "       ...,\n",
       "       [0],\n",
       "       [0],\n",
       "       [0]])"
      ]
     },
     "execution_count": 93,
     "metadata": {},
     "output_type": "execute_result"
    }
   ],
   "source": [
    "y_pred=np.where(y_pred>0.6,1,0)\n",
    "y_pred"
   ]
  },
  {
   "cell_type": "code",
   "execution_count": 94,
   "id": "5a1d0255",
   "metadata": {},
   "outputs": [
    {
     "name": "stdout",
     "output_type": "stream",
     "text": [
      "Classification Report:\n",
      "              precision    recall  f1-score   support\n",
      "\n",
      "         0.0       0.97      1.00      0.99    113975\n",
      "         1.0       0.87      0.28      0.43      4133\n",
      "\n",
      "    accuracy                           0.97    118108\n",
      "   macro avg       0.92      0.64      0.71    118108\n",
      "weighted avg       0.97      0.97      0.97    118108\n",
      "\n",
      "Accuracy:\n",
      "0.973473431096962\n",
      "\n",
      "Confusion Matrix:\n"
     ]
    },
    {
     "data": {
      "image/png": "[encoded data removed]",
      "text/plain": [
       "<Figure size 432x288 with 2 Axes>"
      ]
     },
     "metadata": {
      "needs_background": "light"
     },
     "output_type": "display_data"
    }
   ],
   "source": [
    "cm=confusion_matrix(y_test,y_pred)\n",
    "cmd = ConfusionMatrixDisplay(cm)\n",
    "cmd.plot()\n",
    "\n",
    "\n",
    "print('Classification Report:')\n",
    "print(classification_report(y_test,y_pred))\n",
    "\n",
    "print('Accuracy:')\n",
    "accuracy = accuracy_score(y_test, y_pred)\n",
    "print(accuracy)\n",
    "print()\n",
    "print('Confusion Matrix:')\n",
    "\n",
    "model_values = {'Model Name': 'ANN', 'Accuracy': accuracy, 'Time': td}\n",
    "df_models = df_models.append(model_values, ignore_index = True)"
   ]
  },
  {
   "cell_type": "code",
   "execution_count": 95,
   "id": "699228cd",
   "metadata": {},
   "outputs": [],
   "source": [
    "from xgboost import XGBClassifier"
   ]
  },
  {
   "cell_type": "code",
   "execution_count": 96,
   "id": "a2acfc2d",
   "metadata": {},
   "outputs": [
    {
     "data": {
      "text/plain": [
       "XGBClassifier(base_score=0.5, booster='gbtree', colsample_bylevel=1,\n",
       "              colsample_bynode=1, colsample_bytree=1, enable_categorical=False,\n",
       "              gamma=0, gpu_id=None, importance_type=None,\n",
       "              interaction_constraints=None, learning_rate=0.1, max_delta_step=0,\n",
       "              max_depth=3, min_child_weight=1, missing=None,\n",
       "              monotone_constraints=None, n_estimators=100, n_jobs=4,\n",
       "              nthread=None, num_parallel_tree=None, objective='multi:softprob',\n",
       "              predictor=None, random_state=0, reg_alpha=0, reg_lambda=1,\n",
       "              scale_pos_weight=1, seed=None, silent=None, subsample=1,\n",
       "              tree_method=None, ...)"
      ]
     },
     "execution_count": 96,
     "metadata": {},
     "output_type": "execute_result"
    }
   ],
   "source": [
    "xgbc = XGBClassifier()\n",
    "\n",
    "XGBClassifier(base_score=0.5, booster='gbtree', colsample_bylevel=1,\n",
    "       colsample_bynode=1, colsample_bytree=1, gamma=0, learning_rate=0.1,\n",
    "       max_delta_step=0, max_depth=3, min_child_weight=1, missing=None,\n",
    "       n_estimators=100, n_jobs=4, nthread=None,\n",
    "       objective='multi:softprob', random_state=0, reg_alpha=0,\n",
    "       reg_lambda=1, scale_pos_weight=1, seed=None, silent=None,\n",
    "       subsample=1, verbosity=1)"
   ]
  },
  {
   "cell_type": "code",
   "execution_count": 97,
   "id": "a96a6c30",
   "metadata": {},
   "outputs": [
    {
     "name": "stderr",
     "output_type": "stream",
     "text": [
      "C:\\Users\\Admin\\anaconda3\\lib\\site-packages\\xgboost\\sklearn.py:1224: UserWarning: The use of label encoder in XGBClassifier is deprecated and will be removed in a future release. To remove this warning, do the following: 1) Pass option use_label_encoder=False when constructing XGBClassifier object; and 2) Encode your labels (y) as integers starting with 0, i.e. 0, 1, 2, ..., [num_class - 1].\n",
      "  warnings.warn(label_encoder_deprecation_msg, UserWarning)\n"
     ]
    },
    {
     "name": "stdout",
     "output_type": "stream",
     "text": [
      "[22:56:46] WARNING: C:/Users/Administrator/workspace/xgboost-win64_release_1.5.1/src/learner.cc:1115: Starting in XGBoost 1.3.0, the default evaluation metric used with the objective 'binary:logistic' was changed from 'error' to 'logloss'. Explicitly set eval_metric if you'd like to restore the old behavior.\n"
     ]
    }
   ],
   "source": [
    "t0 = time.time()\n",
    "xgbc.fit(X_train,y_train)\n",
    "td = time.time()-t0"
   ]
  },
  {
   "cell_type": "code",
   "execution_count": 98,
   "id": "c8a0d3d0",
   "metadata": {},
   "outputs": [],
   "source": [
    "y_pred = xgbc.predict(X_test)"
   ]
  },
  {
   "cell_type": "code",
   "execution_count": 99,
   "id": "58b7e322",
   "metadata": {},
   "outputs": [
    {
     "data": {
      "text/plain": [
       "array([0., 0., 0., ..., 0., 0., 0.])"
      ]
     },
     "execution_count": 99,
     "metadata": {},
     "output_type": "execute_result"
    }
   ],
   "source": [
    "y_pred"
   ]
  },
  {
   "cell_type": "code",
   "execution_count": 100,
   "id": "e2842b59",
   "metadata": {},
   "outputs": [
    {
     "name": "stdout",
     "output_type": "stream",
     "text": [
      "Classification Report:\n",
      "              precision    recall  f1-score   support\n",
      "\n",
      "         0.0       0.98      1.00      0.99    113975\n",
      "         1.0       0.91      0.47      0.62      4133\n",
      "\n",
      "    accuracy                           0.98    118108\n",
      "   macro avg       0.95      0.74      0.81    118108\n",
      "weighted avg       0.98      0.98      0.98    118108\n",
      "\n",
      "Accuracy:\n",
      "0.9800436888271751\n",
      "\n",
      "Confusion Matrix:\n"
     ]
    },
    {
     "data": {
      "image/png": "[encoded data removed]",
      "text/plain": [
       "<Figure size 432x288 with 2 Axes>"
      ]
     },
     "metadata": {
      "needs_background": "light"
     },
     "output_type": "display_data"
    }
   ],
   "source": [
    "cm=confusion_matrix(y_test,y_pred)\n",
    "cmd = ConfusionMatrixDisplay(cm)\n",
    "cmd.plot()\n",
    "\n",
    "\n",
    "print('Classification Report:')\n",
    "print(classification_report(y_test,y_pred))\n",
    "\n",
    "print('Accuracy:')\n",
    "accuracy = accuracy_score(y_test, y_pred)\n",
    "print(accuracy)\n",
    "print()\n",
    "print('Confusion Matrix:')\n",
    "\n",
    "model_values = {'Model Name': 'XGBClassifier', 'Accuracy': accuracy, 'Time': td}\n",
    "df_models = df_models.append(model_values, ignore_index = True)"
   ]
  },
  {
   "cell_type": "code",
   "execution_count": 101,
   "id": "5b32e9e9",
   "metadata": {},
   "outputs": [],
   "source": [
    "import lightgbm as lgb\n",
    "lgbm_model = lgb.LGBMClassifier(\n",
    "                                  num_leaves = 340,\n",
    "                                  min_child_weight = 0.07,\n",
    "                                  feature_fraction = 0.8,\n",
    "                                  bagging_fraction = 0.7,\n",
    "                                  min_data_in_leaf = 98,\n",
    "                                  objective = 'binary',\n",
    "                                  max_depth = -1,\n",
    "                                  learning_rate = 0.05,\n",
    "                                  boosting_type = \"gbdt\",\n",
    "                                  bagging_seed = 41,\n",
    "                                  verbosity = -1,\n",
    "                                  reg_alpha = 0.6,\n",
    "                                  reg_lambda = 0.8,\n",
    "                                  random_state = 49\n",
    "                        )\n",
    "\n"
   ]
  },
  {
   "cell_type": "code",
   "execution_count": 102,
   "id": "247e863a",
   "metadata": {},
   "outputs": [
    {
     "name": "stdout",
     "output_type": "stream",
     "text": [
      "[LightGBM] [Warning] feature_fraction is set=0.8, colsample_bytree=1.0 will be ignored. Current value: feature_fraction=0.8\n",
      "[LightGBM] [Warning] min_data_in_leaf is set=98, min_child_samples=20 will be ignored. Current value: min_data_in_leaf=98\n",
      "[LightGBM] [Warning] bagging_fraction is set=0.7, subsample=1.0 will be ignored. Current value: bagging_fraction=0.7\n"
     ]
    }
   ],
   "source": [
    "t0 = time.time()\n",
    "lgbm_model.fit(X_train, y_train)\n",
    "td = time.time()-t0"
   ]
  },
  {
   "cell_type": "code",
   "execution_count": 103,
   "id": "2ce6180e",
   "metadata": {},
   "outputs": [],
   "source": [
    "y_pred = lgbm_model.predict(X_test)"
   ]
  },
  {
   "cell_type": "code",
   "execution_count": 104,
   "id": "885be76c",
   "metadata": {},
   "outputs": [
    {
     "data": {
      "text/plain": [
       "array([0., 0., 0., ..., 0., 0., 0.])"
      ]
     },
     "execution_count": 104,
     "metadata": {},
     "output_type": "execute_result"
    }
   ],
   "source": [
    "y_pred"
   ]
  },
  {
   "cell_type": "code",
   "execution_count": 105,
   "id": "6e141125",
   "metadata": {},
   "outputs": [
    {
     "name": "stdout",
     "output_type": "stream",
     "text": [
      "Classification Report:\n",
      "              precision    recall  f1-score   support\n",
      "\n",
      "         0.0       0.98      1.00      0.99    113975\n",
      "         1.0       0.92      0.53      0.67      4133\n",
      "\n",
      "    accuracy                           0.98    118108\n",
      "   macro avg       0.95      0.76      0.83    118108\n",
      "weighted avg       0.98      0.98      0.98    118108\n",
      "\n",
      "Accuracy:\n",
      "0.9819571917228299\n",
      "\n",
      "Confusion Matrix:\n"
     ]
    },
    {
     "data": {
      "image/png": "[encoded data removed]",
      "text/plain": [
       "<Figure size 432x288 with 2 Axes>"
      ]
     },
     "metadata": {
      "needs_background": "light"
     },
     "output_type": "display_data"
    }
   ],
   "source": [
    "cm=confusion_matrix(y_test,y_pred)\n",
    "cmd = ConfusionMatrixDisplay(cm)\n",
    "cmd.plot()\n",
    "\n",
    "\n",
    "print('Classification Report:')\n",
    "print(classification_report(y_test,y_pred))\n",
    "\n",
    "print('Accuracy:')\n",
    "accuracy = accuracy_score(y_test, y_pred)\n",
    "print(accuracy)\n",
    "print()\n",
    "print('Confusion Matrix:')\n",
    "\n",
    "model_values = {'Model Name': 'LGBMClassifier', 'Accuracy': accuracy, 'Time': td}\n",
    "df_models = df_models.append(model_values, ignore_index = True)"
   ]
  },
  {
   "cell_type": "code",
   "execution_count": 106,
   "id": "505845c9",
   "metadata": {},
   "outputs": [],
   "source": [
    "df_models.sort_values(by = 'Accuracy',ascending=False,inplace=True)"
   ]
  },
  {
   "cell_type": "code",
   "execution_count": 115,
   "id": "d2411649",
   "metadata": {},
   "outputs": [
    {
     "data": {
      "text/html": [
       "<div>\n",
       "<style scoped>\n",
       "    .dataframe tbody tr th:only-of-type {\n",
       "        vertical-align: middle;\n",
       "    }\n",
       "\n",
       "    .dataframe tbody tr th {\n",
       "        vertical-align: top;\n",
       "    }\n",
       "\n",
       "    .dataframe thead th {\n",
       "        text-align: right;\n",
       "    }\n",
       "</style>\n",
       "<table border=\"1\" class=\"dataframe\">\n",
       "  <thead>\n",
       "    <tr style=\"text-align: right;\">\n",
       "      <th></th>\n",
       "      <th>Model Name</th>\n",
       "      <th>Accuracy</th>\n",
       "      <th>Time</th>\n",
       "    </tr>\n",
       "  </thead>\n",
       "  <tbody>\n",
       "    <tr>\n",
       "      <th>0</th>\n",
       "      <td>LGBMClassifier</td>\n",
       "      <td>0.981957</td>\n",
       "      <td>48.911907</td>\n",
       "    </tr>\n",
       "    <tr>\n",
       "      <th>1</th>\n",
       "      <td>XGBClassifier</td>\n",
       "      <td>0.980044</td>\n",
       "      <td>277.468931</td>\n",
       "    </tr>\n",
       "    <tr>\n",
       "      <th>2</th>\n",
       "      <td>ANN</td>\n",
       "      <td>0.973473</td>\n",
       "      <td>1333.601733</td>\n",
       "    </tr>\n",
       "    <tr>\n",
       "      <th>3</th>\n",
       "      <td>RandomForestClassifier</td>\n",
       "      <td>0.968927</td>\n",
       "      <td>120.808890</td>\n",
       "    </tr>\n",
       "  </tbody>\n",
       "</table>\n",
       "</div>"
      ],
      "text/plain": [
       "               Model Name  Accuracy         Time\n",
       "0          LGBMClassifier  0.981957    48.911907\n",
       "1           XGBClassifier  0.980044   277.468931\n",
       "2                     ANN  0.973473  1333.601733\n",
       "3  RandomForestClassifier  0.968927   120.808890"
      ]
     },
     "execution_count": 115,
     "metadata": {},
     "output_type": "execute_result"
    }
   ],
   "source": [
    "df_models.reset_index(inplace=True,drop=True)\n",
    "df_models"
   ]
  },
  {
   "cell_type": "markdown",
   "id": "10ded5f1",
   "metadata": {},
   "source": [
    "## Tuning LGBMClassifier to find best parameters"
   ]
  },
  {
   "cell_type": "code",
   "execution_count": 108,
   "id": "3e75ad4a",
   "metadata": {
    "scrolled": true
   },
   "outputs": [],
   "source": [
    "import optuna \n",
    "import optuna.visualization as optvis\n",
    "from sklearn.model_selection import cross_val_score"
   ]
  },
  {
   "cell_type": "code",
   "execution_count": 109,
   "id": "78b1f89a",
   "metadata": {},
   "outputs": [
    {
     "name": "stderr",
     "output_type": "stream",
     "text": [
      "\u001b[32m[I 2022-04-13 23:02:19,921]\u001b[0m A new study created in memory with name: no-name-ca6cfa27-d3ef-4e57-9290-0fd00bce8968\u001b[0m\n",
      "\u001b[32m[I 2022-04-13 23:04:49,094]\u001b[0m Trial 0 finished with value: 0.9552499727559424 and parameters: {'n_estimators': 108, 'max_depth': 11, 'num_leaves': 371, 'learning_rate': 0.32749172532438153, 'subsample': 0.627391403604776, 'n_jobs': 3, 'boosting_type': 'goss'}. Best is trial 0 with value: 0.9552499727559424.\u001b[0m\n",
      "\u001b[32m[I 2022-04-13 23:09:55,488]\u001b[0m Trial 1 finished with value: 0.7345232492374036 and parameters: {'n_estimators': 134, 'max_depth': 37, 'num_leaves': 332, 'learning_rate': 0.5787426364956367, 'subsample': 0.79575179274433, 'n_jobs': 1, 'boosting_type': 'dart'}. Best is trial 0 with value: 0.9552499727559424.\u001b[0m\n",
      "\u001b[32m[I 2022-04-13 23:10:36,572]\u001b[0m Trial 2 finished with value: 0.7022664052421798 and parameters: {'n_estimators': 147, 'max_depth': 2, 'num_leaves': 103, 'learning_rate': 0.7695229755038812, 'subsample': 0.7387133163934723, 'n_jobs': 4, 'boosting_type': 'gbdt'}. Best is trial 0 with value: 0.9552499727559424.\u001b[0m\n",
      "\u001b[32m[I 2022-04-13 23:12:35,652]\u001b[0m Trial 3 finished with value: 0.6665156452692897 and parameters: {'n_estimators': 171, 'max_depth': 33, 'num_leaves': 126, 'learning_rate': 0.4196764903749999, 'subsample': 0.8929588913128836, 'n_jobs': 2, 'boosting_type': 'goss'}. Best is trial 0 with value: 0.9552499727559424.\u001b[0m\n",
      "\u001b[32m[I 2022-04-13 23:14:40,771]\u001b[0m Trial 4 finished with value: 0.5981070016800628 and parameters: {'n_estimators': 141, 'max_depth': 0, 'num_leaves': 360, 'learning_rate': 0.5089137651345362, 'subsample': 0.6510798277022385, 'n_jobs': 2, 'boosting_type': 'goss'}. Best is trial 0 with value: 0.9552499727559424.\u001b[0m\n",
      "\u001b[32m[I 2022-04-13 23:15:27,041]\u001b[0m Trial 5 finished with value: 0.9124884370000645 and parameters: {'n_estimators': 189, 'max_depth': 3, 'num_leaves': 281, 'learning_rate': 0.30645249041782463, 'subsample': 0.6945494879283185, 'n_jobs': 4, 'boosting_type': 'gbdt'}. Best is trial 0 with value: 0.9552499727559424.\u001b[0m\n",
      "\u001b[32m[I 2022-04-13 23:17:40,829]\u001b[0m Trial 6 finished with value: 0.964085187558626 and parameters: {'n_estimators': 180, 'max_depth': 36, 'num_leaves': 280, 'learning_rate': 0.11581567834146844, 'subsample': 0.9593883005203684, 'n_jobs': 1, 'boosting_type': 'goss'}. Best is trial 6 with value: 0.964085187558626.\u001b[0m\n",
      "\u001b[32m[I 2022-04-13 23:19:08,347]\u001b[0m Trial 7 finished with value: 0.6750603977880105 and parameters: {'n_estimators': 155, 'max_depth': 17, 'num_leaves': 90, 'learning_rate': 0.4748759843244499, 'subsample': 0.8928135339470749, 'n_jobs': 2, 'boosting_type': 'goss'}. Best is trial 6 with value: 0.964085187558626.\u001b[0m\n",
      "\u001b[32m[I 2022-04-13 23:21:10,725]\u001b[0m Trial 8 finished with value: 0.9569177864795992 and parameters: {'n_estimators': 105, 'max_depth': 14, 'num_leaves': 328, 'learning_rate': 0.3281559668793528, 'subsample': 0.9657528441666775, 'n_jobs': 2, 'boosting_type': 'dart'}. Best is trial 6 with value: 0.964085187558626.\u001b[0m\n",
      "\u001b[32m[I 2022-04-13 23:22:41,261]\u001b[0m Trial 9 finished with value: 0.9591421255199682 and parameters: {'n_estimators': 137, 'max_depth': 34, 'num_leaves': 137, 'learning_rate': 0.17564604929443606, 'subsample': 0.9263861092461687, 'n_jobs': 2, 'boosting_type': 'goss'}. Best is trial 6 with value: 0.964085187558626.\u001b[0m\n",
      "\u001b[32m[I 2022-04-13 23:25:03,340]\u001b[0m Trial 10 finished with value: 0.9630143055481619 and parameters: {'n_estimators': 191, 'max_depth': 26, 'num_leaves': 455, 'learning_rate': 0.041898684550830956, 'subsample': 0.9977871444178743, 'n_jobs': 1, 'boosting_type': 'gbdt'}. Best is trial 6 with value: 0.964085187558626.\u001b[0m\n",
      "\u001b[32m[I 2022-04-13 23:27:38,944]\u001b[0m Trial 11 finished with value: 0.963025522146412 and parameters: {'n_estimators': 195, 'max_depth': 26, 'num_leaves': 499, 'learning_rate': 0.039954342207371915, 'subsample': 0.9857859222910773, 'n_jobs': 1, 'boosting_type': 'gbdt'}. Best is trial 6 with value: 0.964085187558626.\u001b[0m\n",
      "\u001b[32m[I 2022-04-13 23:30:00,148]\u001b[0m Trial 12 finished with value: 0.9166870247225141 and parameters: {'n_estimators': 199, 'max_depth': 27, 'num_leaves': 499, 'learning_rate': 0.0045570226172526596, 'subsample': 0.8391969404810036, 'n_jobs': 1, 'boosting_type': 'gbdt'}. Best is trial 6 with value: 0.964085187558626.\u001b[0m\n",
      "\u001b[32m[I 2022-04-13 23:31:26,611]\u001b[0m Trial 13 finished with value: 0.9611333274560572 and parameters: {'n_estimators': 175, 'max_depth': 40, 'num_leaves': 213, 'learning_rate': 0.1523719156540492, 'subsample': 0.9995233854526067, 'n_jobs': 1, 'boosting_type': 'gbdt'}. Best is trial 6 with value: 0.964085187558626.\u001b[0m\n",
      "\u001b[32m[I 2022-04-13 23:35:19,290]\u001b[0m Trial 14 finished with value: 0.9568071592945628 and parameters: {'n_estimators': 174, 'max_depth': 24, 'num_leaves': 204, 'learning_rate': 0.17399652138867783, 'subsample': 0.8360571155428754, 'n_jobs': 3, 'boosting_type': 'dart'}. Best is trial 6 with value: 0.964085187558626.\u001b[0m\n",
      "\u001b[32m[I 2022-04-13 23:37:49,859]\u001b[0m Trial 15 finished with value: 0.5514039914069702 and parameters: {'n_estimators': 161, 'max_depth': 30, 'num_leaves': 418, 'learning_rate': 0.7623117662002491, 'subsample': 0.9344175874897147, 'n_jobs': 1, 'boosting_type': 'goss'}. Best is trial 6 with value: 0.964085187558626.\u001b[0m\n",
      "\u001b[32m[I 2022-04-13 23:39:26,237]\u001b[0m Trial 16 finished with value: 0.9620461998342196 and parameters: {'n_estimators': 186, 'max_depth': 20, 'num_leaves': 227, 'learning_rate': 0.1216082506394678, 'subsample': 0.8831731856110849, 'n_jobs': 1, 'boosting_type': 'gbdt'}. Best is trial 6 with value: 0.964085187558626.\u001b[0m\n",
      "\u001b[32m[I 2022-04-13 23:42:11,456]\u001b[0m Trial 17 finished with value: 0.9621191911655285 and parameters: {'n_estimators': 198, 'max_depth': 21, 'num_leaves': 428, 'learning_rate': 0.23190840467658236, 'subsample': 0.9448111611873625, 'n_jobs': 3, 'boosting_type': 'goss'}. Best is trial 6 with value: 0.964085187558626.\u001b[0m\n",
      "\u001b[32m[I 2022-04-13 23:43:34,378]\u001b[0m Trial 18 finished with value: 0.5640629553139911 and parameters: {'n_estimators': 166, 'max_depth': 30, 'num_leaves': 278, 'learning_rate': 0.9534996786478831, 'subsample': 0.7865424989195888, 'n_jobs': 1, 'boosting_type': 'gbdt'}. Best is trial 6 with value: 0.964085187558626.\u001b[0m\n",
      "\u001b[32m[I 2022-04-13 23:46:00,686]\u001b[0m Trial 19 finished with value: 0.9019924736751687 and parameters: {'n_estimators': 181, 'max_depth': 40, 'num_leaves': 57, 'learning_rate': 0.06745484298502658, 'subsample': 0.8520851904048317, 'n_jobs': 2, 'boosting_type': 'dart'}. Best is trial 6 with value: 0.964085187558626.\u001b[0m\n"
     ]
    },
    {
     "name": "stdout",
     "output_type": "stream",
     "text": [
      "\n",
      "0.964085187558626\n",
      "{'n_estimators': 180, 'max_depth': 36, 'num_leaves': 280, 'learning_rate': 0.11581567834146844, 'subsample': 0.9593883005203684, 'n_jobs': 1, 'boosting_type': 'goss'}\n"
     ]
    }
   ],
   "source": [
    "def lgbm_objective(trial):\n",
    "    \n",
    "    n  = trial.suggest_int('n_estimators', 100, 200)\n",
    "    md = trial.suggest_int('max_depth', -1, 40)\n",
    "    nl = trial.suggest_int('num_leaves', 50, 500)\n",
    "    lr = trial.suggest_float('learning_rate', 0, 1, log=False)\n",
    "    ss = trial.suggest_float('subsample', 0.6, 1, log=False)\n",
    "    nj = trial.suggest_int('n_jobs', 1, 4) \n",
    "    bt = trial.suggest_categorical('boosting_type', ['gbdt', 'dart', 'goss'])\n",
    "    \n",
    "    \n",
    "    clf =  lgb.LGBMClassifier(n_estimators=n, max_depth=md, learning_rate=lr, boosting_type=bt,num_leaves = nl, n_jobs = nj,\n",
    "                          subsample=ss, random_state=1)\n",
    "    \n",
    "    scores = cross_val_score(clf, X_train, y_train, n_jobs=-1, scoring='roc_auc')\n",
    "    return scores.mean()\n",
    "    \n",
    "lgbm_study = optuna.create_study(direction='maximize')\n",
    "lgbm_study.optimize(lgbm_objective, n_trials=20)\n",
    "\n",
    "print()\n",
    "print(lgbm_study.best_value)\n",
    "print(lgbm_study.best_params)"
   ]
  },
  {
   "cell_type": "code",
   "execution_count": 116,
   "id": "3610cad1",
   "metadata": {},
   "outputs": [],
   "source": [
    "y_final = lgbm_model.predict_proba(test)"
   ]
  },
  {
   "cell_type": "code",
   "execution_count": 117,
   "id": "0d1db0b4",
   "metadata": {},
   "outputs": [],
   "source": [
    "sub = pd.DataFrame()\n",
    "sub['TransactionID'] = test_id\n",
    "sub['isFraud'] = y_final[:, 1]\n",
    "sub.to_csv(path+'submission_final.csv', index = False)"
   ]
  },
  {
   "cell_type": "code",
   "execution_count": null,
   "id": "94d4af89",
   "metadata": {},
   "outputs": [],
   "source": []
  }
 ],
 "metadata": {
  "kernelspec": {
   "display_name": "Python 3",
   "language": "python",
   "name": "python3"
  },
  "language_info": {
   "codemirror_mode": {
    "name": "ipython",
    "version": 3
   },
   "file_extension": ".py",
   "mimetype": "text/x-python",
   "name": "python",
   "nbconvert_exporter": "python",
   "pygments_lexer": "ipython3",
   "version": "3.8.8"
  }
 },
 "nbformat": 4,
 "nbformat_minor": 5
}
